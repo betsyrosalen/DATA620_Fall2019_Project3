{
 "cells": [
  {
   "cell_type": "markdown",
   "metadata": {},
   "source": [
    "# Data 620 - Project 3"
   ]
  },
  {
   "cell_type": "markdown",
   "metadata": {},
   "source": [
    "Baron Curtin, Heather Geiger, Mikhail Groysman, Betsy Rosalen"
   ]
  },
  {
   "cell_type": "markdown",
   "metadata": {},
   "source": [
    "## Project description"
   ]
  },
  {
   "cell_type": "markdown",
   "metadata": {},
   "source": [
    "Using any of the three classifiers described in chapter 6 of Natural Language Processing with Python, and any features you can think of, build the best name gender classifier you can.\n",
    "\n",
    "Begin by splitting the Names Corpus into three subsets: 500 words for the test set, 500 words for the devtest set, and the remaining 6900 words for the training set. Then, starting with the example name gender classifier, make incremental improvements. Use the dev-test set to check your progress. Once you are satisfied with your classifier, check its final performance on the test set.\n",
    "\n",
    "How does the performance on the test set compare to the performance on the dev-test set? Is this what you'd expect?"
   ]
  },
  {
   "cell_type": "markdown",
   "metadata": {},
   "source": [
    "## Load libraries."
   ]
  },
  {
   "cell_type": "code",
   "execution_count": 1,
   "metadata": {},
   "outputs": [],
   "source": [
    "import random\n",
    "from collections import Counter\n",
    "import nltk\n",
    "from nltk import download\n",
    "from nltk.corpus import names\n",
    "from nltk.util import ngrams\n",
    "from nltk.tokenize.sonority_sequencing import SyllableTokenizer\n",
    "from nltk import NaiveBayesClassifier\n",
    "import matplotlib.pyplot as plt\n",
    "import seaborn as sns\n",
    "\n",
    "import pandas as pd\n",
    "import numpy as np\n",
    "\n",
    "# jupyter setup\n",
    "from IPython.core.interactiveshell import InteractiveShell\n",
    "InteractiveShell.ast_node_interactivity = \"all\""
   ]
  },
  {
   "cell_type": "markdown",
   "metadata": {},
   "source": [
    "## Data loading/preparation"
   ]
  },
  {
   "cell_type": "markdown",
   "metadata": {},
   "source": [
    "In the following cells, we will be loading the corpus into memory, labelling all of the names, and then randomizing the list of names for later use. Randomizing the names will ensure that our training/test sets will contain both genders from which we should be able to create numerous features from."
   ]
  },
  {
   "cell_type": "markdown",
   "metadata": {},
   "source": [
    "### Load and shuffle data."
   ]
  },
  {
   "cell_type": "code",
   "execution_count": 2,
   "metadata": {},
   "outputs": [],
   "source": [
    "# read in names from the files\n",
    "# label each name with corresponding gender\n",
    "# names to be lowercase for easy recognition \n",
    "#download('names')\n",
    "males = [(name.lower().strip(), 'male') for name in names.words('male.txt')]\n",
    "females = [(name.lower().strip(), 'female') for name in names.words('female.txt')]\n",
    "\n",
    "# combine lists of names\n",
    "all_names = males + females\n",
    "\n",
    "# randomize the list\n",
    "random.seed(13)\n",
    "random.shuffle(all_names)"
   ]
  },
  {
   "cell_type": "markdown",
   "metadata": {},
   "source": [
    "### Feature creation"
   ]
  },
  {
   "cell_type": "markdown",
   "metadata": {},
   "source": [
    "Features are the most important part of what goes into a machine learning model. For that reason, it is critically important to try to come up with features that make the most sense in identifying gender differences in names. To make creation and analysis easier, we will put our data in a Pandas dataframe."
   ]
  },
  {
   "cell_type": "code",
   "execution_count": 3,
   "metadata": {},
   "outputs": [
    {
     "data": {
      "text/html": [
       "<div>\n",
       "<style scoped>\n",
       "    .dataframe tbody tr th:only-of-type {\n",
       "        vertical-align: middle;\n",
       "    }\n",
       "\n",
       "    .dataframe tbody tr th {\n",
       "        vertical-align: top;\n",
       "    }\n",
       "\n",
       "    .dataframe thead th {\n",
       "        text-align: right;\n",
       "    }\n",
       "</style>\n",
       "<table border=\"1\" class=\"dataframe\">\n",
       "  <thead>\n",
       "    <tr style=\"text-align: right;\">\n",
       "      <th></th>\n",
       "      <th>name</th>\n",
       "      <th>gender</th>\n",
       "    </tr>\n",
       "  </thead>\n",
       "  <tbody>\n",
       "    <tr>\n",
       "      <th>0</th>\n",
       "      <td>uriel</td>\n",
       "      <td>male</td>\n",
       "    </tr>\n",
       "    <tr>\n",
       "      <th>1</th>\n",
       "      <td>brett</td>\n",
       "      <td>female</td>\n",
       "    </tr>\n",
       "    <tr>\n",
       "      <th>2</th>\n",
       "      <td>neel</td>\n",
       "      <td>male</td>\n",
       "    </tr>\n",
       "    <tr>\n",
       "      <th>3</th>\n",
       "      <td>phedra</td>\n",
       "      <td>female</td>\n",
       "    </tr>\n",
       "    <tr>\n",
       "      <th>4</th>\n",
       "      <td>maridel</td>\n",
       "      <td>female</td>\n",
       "    </tr>\n",
       "  </tbody>\n",
       "</table>\n",
       "</div>"
      ],
      "text/plain": [
       "      name  gender\n",
       "0    uriel    male\n",
       "1    brett  female\n",
       "2     neel    male\n",
       "3   phedra  female\n",
       "4  maridel  female"
      ]
     },
     "execution_count": 3,
     "metadata": {},
     "output_type": "execute_result"
    }
   ],
   "source": [
    "# create dataframe\n",
    "data = pd.DataFrame.from_dict(dict(all_names), orient='index', columns=['gender']).reset_index()\n",
    "data.columns = ['name', 'gender']\n",
    "data.head()"
   ]
  },
  {
   "cell_type": "code",
   "execution_count": 4,
   "metadata": {},
   "outputs": [
    {
     "name": "stderr",
     "output_type": "stream",
     "text": [
      "/Users/hmgeiger/Library/Python/3.7/lib/python/site-packages/nltk/tokenize/sonority_sequencing.py:102: UserWarning: Character not defined in sonority_hierarchy, assigning as vowel: ' '\n",
      "  \" assigning as vowel: '{}'\".format(c))\n"
     ]
    },
    {
     "data": {
      "text/html": [
       "<div>\n",
       "<style scoped>\n",
       "    .dataframe tbody tr th:only-of-type {\n",
       "        vertical-align: middle;\n",
       "    }\n",
       "\n",
       "    .dataframe tbody tr th {\n",
       "        vertical-align: top;\n",
       "    }\n",
       "\n",
       "    .dataframe thead th {\n",
       "        text-align: right;\n",
       "    }\n",
       "</style>\n",
       "<table border=\"1\" class=\"dataframe\">\n",
       "  <thead>\n",
       "    <tr style=\"text-align: right;\">\n",
       "      <th></th>\n",
       "      <th>name</th>\n",
       "      <th>gender</th>\n",
       "      <th>length</th>\n",
       "      <th>first_letter</th>\n",
       "      <th>last_letter</th>\n",
       "      <th>vowel_last_letter</th>\n",
       "      <th>vowel_first_letter</th>\n",
       "      <th>vowels</th>\n",
       "      <th>consonants</th>\n",
       "      <th>vowel_count</th>\n",
       "      <th>consonant_count</th>\n",
       "      <th>bigrams</th>\n",
       "      <th>trigrams</th>\n",
       "      <th>syllables</th>\n",
       "    </tr>\n",
       "  </thead>\n",
       "  <tbody>\n",
       "    <tr>\n",
       "      <th>0</th>\n",
       "      <td>uriel</td>\n",
       "      <td>male</td>\n",
       "      <td>5</td>\n",
       "      <td>u</td>\n",
       "      <td>l</td>\n",
       "      <td>False</td>\n",
       "      <td>True</td>\n",
       "      <td>uie</td>\n",
       "      <td>rl</td>\n",
       "      <td>3</td>\n",
       "      <td>2</td>\n",
       "      <td>[(u, r), (r, i), (i, e), (e, l)]</td>\n",
       "      <td>[(u, r, i), (r, i, e), (i, e, l)]</td>\n",
       "      <td>2</td>\n",
       "    </tr>\n",
       "    <tr>\n",
       "      <th>1</th>\n",
       "      <td>brett</td>\n",
       "      <td>female</td>\n",
       "      <td>5</td>\n",
       "      <td>b</td>\n",
       "      <td>t</td>\n",
       "      <td>False</td>\n",
       "      <td>False</td>\n",
       "      <td>e</td>\n",
       "      <td>brtt</td>\n",
       "      <td>1</td>\n",
       "      <td>4</td>\n",
       "      <td>[(b, r), (r, e), (e, t), (t, t)]</td>\n",
       "      <td>[(b, r, e), (r, e, t), (e, t, t)]</td>\n",
       "      <td>1</td>\n",
       "    </tr>\n",
       "    <tr>\n",
       "      <th>2</th>\n",
       "      <td>neel</td>\n",
       "      <td>male</td>\n",
       "      <td>4</td>\n",
       "      <td>n</td>\n",
       "      <td>l</td>\n",
       "      <td>False</td>\n",
       "      <td>False</td>\n",
       "      <td>ee</td>\n",
       "      <td>nl</td>\n",
       "      <td>2</td>\n",
       "      <td>2</td>\n",
       "      <td>[(n, e), (e, e), (e, l)]</td>\n",
       "      <td>[(n, e, e), (e, e, l)]</td>\n",
       "      <td>1</td>\n",
       "    </tr>\n",
       "    <tr>\n",
       "      <th>3</th>\n",
       "      <td>phedra</td>\n",
       "      <td>female</td>\n",
       "      <td>6</td>\n",
       "      <td>p</td>\n",
       "      <td>a</td>\n",
       "      <td>True</td>\n",
       "      <td>False</td>\n",
       "      <td>ea</td>\n",
       "      <td>phdr</td>\n",
       "      <td>2</td>\n",
       "      <td>4</td>\n",
       "      <td>[(p, h), (h, e), (e, d), (d, r), (r, a)]</td>\n",
       "      <td>[(p, h, e), (h, e, d), (e, d, r), (d, r, a)]</td>\n",
       "      <td>2</td>\n",
       "    </tr>\n",
       "    <tr>\n",
       "      <th>4</th>\n",
       "      <td>maridel</td>\n",
       "      <td>female</td>\n",
       "      <td>7</td>\n",
       "      <td>m</td>\n",
       "      <td>l</td>\n",
       "      <td>False</td>\n",
       "      <td>False</td>\n",
       "      <td>aie</td>\n",
       "      <td>mrdl</td>\n",
       "      <td>3</td>\n",
       "      <td>4</td>\n",
       "      <td>[(m, a), (a, r), (r, i), (i, d), (d, e), (e, l)]</td>\n",
       "      <td>[(m, a, r), (a, r, i), (r, i, d), (i, d, e), (...</td>\n",
       "      <td>3</td>\n",
       "    </tr>\n",
       "  </tbody>\n",
       "</table>\n",
       "</div>"
      ],
      "text/plain": [
       "      name  gender  length first_letter last_letter  vowel_last_letter  \\\n",
       "0    uriel    male       5            u           l              False   \n",
       "1    brett  female       5            b           t              False   \n",
       "2     neel    male       4            n           l              False   \n",
       "3   phedra  female       6            p           a               True   \n",
       "4  maridel  female       7            m           l              False   \n",
       "\n",
       "   vowel_first_letter vowels consonants  vowel_count  consonant_count  \\\n",
       "0                True    uie         rl            3                2   \n",
       "1               False      e       brtt            1                4   \n",
       "2               False     ee         nl            2                2   \n",
       "3               False     ea       phdr            2                4   \n",
       "4               False    aie       mrdl            3                4   \n",
       "\n",
       "                                            bigrams  \\\n",
       "0                  [(u, r), (r, i), (i, e), (e, l)]   \n",
       "1                  [(b, r), (r, e), (e, t), (t, t)]   \n",
       "2                          [(n, e), (e, e), (e, l)]   \n",
       "3          [(p, h), (h, e), (e, d), (d, r), (r, a)]   \n",
       "4  [(m, a), (a, r), (r, i), (i, d), (d, e), (e, l)]   \n",
       "\n",
       "                                            trigrams  syllables  \n",
       "0                  [(u, r, i), (r, i, e), (i, e, l)]          2  \n",
       "1                  [(b, r, e), (r, e, t), (e, t, t)]          1  \n",
       "2                             [(n, e, e), (e, e, l)]          1  \n",
       "3       [(p, h, e), (h, e, d), (e, d, r), (d, r, a)]          2  \n",
       "4  [(m, a, r), (a, r, i), (r, i, d), (i, d, e), (...          3  "
      ]
     },
     "execution_count": 4,
     "metadata": {},
     "output_type": "execute_result"
    }
   ],
   "source": [
    "# instatiate syllable tokenize\n",
    "SSP = SyllableTokenizer()\n",
    "\n",
    "# create various feature columns for exploration\n",
    "data['length'] = data['name'].str.len()\n",
    "data['first_letter'] = data['name'].str[0]\n",
    "data['last_letter'] = data['name'].str[-1]\n",
    "data['vowel_last_letter'] = data['last_letter'].isin([*'aeiou'])\n",
    "data['vowel_first_letter'] = data['first_letter'].isin([*'aeiou'])\n",
    "data['vowels'] = data['name'].str.replace(r'[^aeiou]', '')\n",
    "data['consonants'] = data['name'].str.replace(r'[aeiou]', '')\n",
    "data['vowel_count'] = data['vowels'].str.len()\n",
    "data['consonant_count'] = data['consonants'].str.len()\n",
    "data['bigrams'] = data['name'].apply(lambda x: list(ngrams(x, 2)))\n",
    "data['trigrams'] = data['name'].apply(lambda x: list(ngrams(x, 3)))\n",
    "data['syllables'] = data['name'].apply(lambda x: len(SSP.tokenize(x)))\n",
    "\n",
    "# preview data\n",
    "data.head()"
   ]
  },
  {
   "cell_type": "code",
   "execution_count": 5,
   "metadata": {},
   "outputs": [
    {
     "data": {
      "text/html": [
       "<div>\n",
       "<style scoped>\n",
       "    .dataframe tbody tr th:only-of-type {\n",
       "        vertical-align: middle;\n",
       "    }\n",
       "\n",
       "    .dataframe tbody tr th {\n",
       "        vertical-align: top;\n",
       "    }\n",
       "\n",
       "    .dataframe thead th {\n",
       "        text-align: right;\n",
       "    }\n",
       "</style>\n",
       "<table border=\"1\" class=\"dataframe\">\n",
       "  <thead>\n",
       "    <tr style=\"text-align: right;\">\n",
       "      <th></th>\n",
       "      <th>bigrams</th>\n",
       "      <th>trigrams</th>\n",
       "      <th>bigrams_counter</th>\n",
       "      <th>trigrams_counter</th>\n",
       "    </tr>\n",
       "    <tr>\n",
       "      <th>gender</th>\n",
       "      <th></th>\n",
       "      <th></th>\n",
       "      <th></th>\n",
       "      <th></th>\n",
       "    </tr>\n",
       "  </thead>\n",
       "  <tbody>\n",
       "    <tr>\n",
       "      <th>female</th>\n",
       "      <td>[(b, r), (r, e), (e, t), (t, t), (p, h), (h, e...</td>\n",
       "      <td>[(b, r, e), (r, e, t), (e, t, t), (p, h, e), (...</td>\n",
       "      <td>{('b', 'r'): 84, ('r', 'e'): 289, ('e', 't'): ...</td>\n",
       "      <td>{('b', 'r', 'e'): 14, ('r', 'e', 't'): 42, ('e...</td>\n",
       "    </tr>\n",
       "    <tr>\n",
       "      <th>male</th>\n",
       "      <td>[(u, r), (r, i), (i, e), (e, l), (n, e), (e, e...</td>\n",
       "      <td>[(u, r, i), (r, i, e), (i, e, l), (n, e, e), (...</td>\n",
       "      <td>{('u', 'r'): 65, ('r', 'i'): 205, ('i', 'e'): ...</td>\n",
       "      <td>{('u', 'r', 'i'): 10, ('r', 'i', 'e'): 21, ('i...</td>\n",
       "    </tr>\n",
       "  </tbody>\n",
       "</table>\n",
       "</div>"
      ],
      "text/plain": [
       "                                                  bigrams  \\\n",
       "gender                                                      \n",
       "female  [(b, r), (r, e), (e, t), (t, t), (p, h), (h, e...   \n",
       "male    [(u, r), (r, i), (i, e), (e, l), (n, e), (e, e...   \n",
       "\n",
       "                                                 trigrams  \\\n",
       "gender                                                      \n",
       "female  [(b, r, e), (r, e, t), (e, t, t), (p, h, e), (...   \n",
       "male    [(u, r, i), (r, i, e), (i, e, l), (n, e, e), (...   \n",
       "\n",
       "                                          bigrams_counter  \\\n",
       "gender                                                      \n",
       "female  {('b', 'r'): 84, ('r', 'e'): 289, ('e', 't'): ...   \n",
       "male    {('u', 'r'): 65, ('r', 'i'): 205, ('i', 'e'): ...   \n",
       "\n",
       "                                         trigrams_counter  \n",
       "gender                                                     \n",
       "female  {('b', 'r', 'e'): 14, ('r', 'e', 't'): 42, ('e...  \n",
       "male    {('u', 'r', 'i'): 10, ('r', 'i', 'e'): 21, ('i...  "
      ]
     },
     "execution_count": 5,
     "metadata": {},
     "output_type": "execute_result"
    }
   ],
   "source": [
    "# lets analyze our bigrams and trigrams columns to get the most common ngrams by gender\n",
    "ngrams_gender = data.groupby('gender')[['bigrams', 'trigrams']].sum()\n",
    "ngrams_gender['bigrams_counter'] = ngrams_gender['bigrams'].apply(lambda x: Counter(x))\n",
    "ngrams_gender['trigrams_counter'] = ngrams_gender['trigrams'].apply(lambda x: Counter(x))\n",
    "ngrams_gender"
   ]
  },
  {
   "cell_type": "markdown",
   "metadata": {},
   "source": [
    "Using the counter class and the bigrams and trigrams, we can eliminate the need for the most common bigram/trigram and instead just use the list of bigrams and trigrams as features. The most common bigram was only in ~13% of the female names and ~12% of the male names."
   ]
  },
  {
   "cell_type": "markdown",
   "metadata": {},
   "source": [
    "## Data exploration"
   ]
  },
  {
   "cell_type": "markdown",
   "metadata": {},
   "source": [
    "Lets get a better feel for how our data is composed. In this exploration step, we will confirm whether any of the features we created will become good predictors of gender. Exploration will occur both visually as well as computationally."
   ]
  },
  {
   "cell_type": "code",
   "execution_count": 6,
   "metadata": {},
   "outputs": [
    {
     "data": {
      "text/html": [
       "<div>\n",
       "<style scoped>\n",
       "    .dataframe tbody tr th:only-of-type {\n",
       "        vertical-align: middle;\n",
       "    }\n",
       "\n",
       "    .dataframe tbody tr th {\n",
       "        vertical-align: top;\n",
       "    }\n",
       "\n",
       "    .dataframe thead th {\n",
       "        text-align: right;\n",
       "    }\n",
       "</style>\n",
       "<table border=\"1\" class=\"dataframe\">\n",
       "  <thead>\n",
       "    <tr style=\"text-align: right;\">\n",
       "      <th></th>\n",
       "      <th>length</th>\n",
       "      <th>vowel_last_letter</th>\n",
       "      <th>vowel_first_letter</th>\n",
       "      <th>vowel_count</th>\n",
       "      <th>consonant_count</th>\n",
       "      <th>syllables</th>\n",
       "    </tr>\n",
       "    <tr>\n",
       "      <th>gender</th>\n",
       "      <th></th>\n",
       "      <th></th>\n",
       "      <th></th>\n",
       "      <th></th>\n",
       "      <th></th>\n",
       "      <th></th>\n",
       "    </tr>\n",
       "  </thead>\n",
       "  <tbody>\n",
       "    <tr>\n",
       "      <th>female</th>\n",
       "      <td>6.148294</td>\n",
       "      <td>0.723061</td>\n",
       "      <td>0.174560</td>\n",
       "      <td>2.676525</td>\n",
       "      <td>3.471768</td>\n",
       "      <td>2.474043</td>\n",
       "    </tr>\n",
       "    <tr>\n",
       "      <th>male</th>\n",
       "      <td>5.942701</td>\n",
       "      <td>0.234672</td>\n",
       "      <td>0.154745</td>\n",
       "      <td>2.199270</td>\n",
       "      <td>3.743431</td>\n",
       "      <td>2.048540</td>\n",
       "    </tr>\n",
       "  </tbody>\n",
       "</table>\n",
       "</div>"
      ],
      "text/plain": [
       "          length  vowel_last_letter  vowel_first_letter  vowel_count  \\\n",
       "gender                                                                 \n",
       "female  6.148294           0.723061            0.174560     2.676525   \n",
       "male    5.942701           0.234672            0.154745     2.199270   \n",
       "\n",
       "        consonant_count  syllables  \n",
       "gender                              \n",
       "female         3.471768   2.474043  \n",
       "male           3.743431   2.048540  "
      ]
     },
     "execution_count": 6,
     "metadata": {},
     "output_type": "execute_result"
    }
   ],
   "source": [
    "# use our created variables to generate some summary statistics\n",
    "data.groupby('gender').mean()"
   ]
  },
  {
   "cell_type": "code",
   "execution_count": 7,
   "metadata": {},
   "outputs": [],
   "source": [
    "# separate features from label\n",
    "X = data.drop(columns=['name', 'gender'])\n",
    "y = data['gender']"
   ]
  },
  {
   "cell_type": "markdown",
   "metadata": {},
   "source": [
    "Based on the above chart, we see that females have a higher name length on average, higher vowel counts, and the last letter is 72% of the time a vowel. These appear to be good predictors. We need to visual confirm what we see numerically."
   ]
  },
  {
   "cell_type": "code",
   "execution_count": 8,
   "metadata": {},
   "outputs": [
    {
     "data": {
      "text/plain": [
       "<matplotlib.axes._subplots.AxesSubplot at 0x11ac9ae10>"
      ]
     },
     "execution_count": 8,
     "metadata": {},
     "output_type": "execute_result"
    },
    {
     "data": {
      "text/plain": [
       "<matplotlib.axes._subplots.AxesSubplot at 0x11b9a2470>"
      ]
     },
     "execution_count": 8,
     "metadata": {},
     "output_type": "execute_result"
    },
    {
     "data": {
      "image/png": "[encoded data removed]",
      "text/plain": [
       "<Figure size 1440x720 with 2 Axes>"
      ]
     },
     "metadata": {
      "needs_background": "light"
     },
     "output_type": "display_data"
    }
   ],
   "source": [
    "# categorical/numerical columns\n",
    "categorical_cols = X.loc[:, [col for col in X.columns if 'gram' not in col]].select_dtypes(include='object').columns\n",
    "numerical_cols = X.select_dtypes(include=np.number).columns\n",
    "\n",
    "fig, ax = plt.subplots(1, 2, figsize=(20, 10))\n",
    "\n",
    "for var, subplot in zip(categorical_cols[:2], ax.flatten()):\n",
    "    sns.countplot(x=var, data=data, ax=subplot)\n",
    "    # rotate labels for easy viewing\n",
    "    for label in subplot.get_xticklabels():\n",
    "        label.set_rotation(90)"
   ]
  },
  {
   "cell_type": "markdown",
   "metadata": {},
   "source": [
    "The distributions above don't tell us much. We need to condition on gender."
   ]
  },
  {
   "cell_type": "code",
   "execution_count": 9,
   "metadata": {},
   "outputs": [
    {
     "name": "stderr",
     "output_type": "stream",
     "text": [
      "/Library/Frameworks/Python.framework/Versions/3.7/lib/python3.7/site-packages/seaborn/axisgrid.py:715: UserWarning: Using the countplot function without specifying `order` is likely to produce an incorrect plot.\n",
      "  warnings.warn(warning)\n"
     ]
    },
    {
     "data": {
      "text/plain": [
       "<seaborn.axisgrid.FacetGrid at 0x11df76630>"
      ]
     },
     "execution_count": 9,
     "metadata": {},
     "output_type": "execute_result"
    },
    {
     "data": {
      "image/png": "[encoded data removed]",
      "text/plain": [
       "<Figure size 440x216 with 2 Axes>"
      ]
     },
     "metadata": {
      "needs_background": "light"
     },
     "output_type": "display_data"
    },
    {
     "data": {
      "text/plain": [
       "<seaborn.axisgrid.FacetGrid at 0x11e5564e0>"
      ]
     },
     "execution_count": 9,
     "metadata": {},
     "output_type": "execute_result"
    },
    {
     "data": {
      "image/png": "[encoded data removed]",
      "text/plain": [
       "<Figure size 440x216 with 2 Axes>"
      ]
     },
     "metadata": {
      "needs_background": "light"
     },
     "output_type": "display_data"
    }
   ],
   "source": [
    "cond_plot = sns.FacetGrid(data=data, col='gender')\n",
    "cond_plot.map(sns.countplot, 'last_letter').add_legend()\n",
    "plt.tight_layout()\n",
    "plt.show()\n",
    "\n",
    "cond_plot = sns.FacetGrid(data=data, col='gender')\n",
    "cond_plot.map(sns.countplot, 'first_letter').add_legend()\n",
    "plt.tight_layout()\n",
    "plt.show()"
   ]
  },
  {
   "cell_type": "markdown",
   "metadata": {},
   "source": [
    "It would appear that both the first and the last letter could be pretty good predictors for gender."
   ]
  },
  {
   "cell_type": "code",
   "execution_count": 10,
   "metadata": {},
   "outputs": [
    {
     "data": {
      "text/plain": [
       "<matplotlib.axes._subplots.AxesSubplot at 0x11e6c37b8>"
      ]
     },
     "execution_count": 10,
     "metadata": {},
     "output_type": "execute_result"
    },
    {
     "data": {
      "text/plain": [
       "<matplotlib.axes._subplots.AxesSubplot at 0x11e7006d8>"
      ]
     },
     "execution_count": 10,
     "metadata": {},
     "output_type": "execute_result"
    },
    {
     "data": {
      "text/plain": [
       "<matplotlib.axes._subplots.AxesSubplot at 0x11e85fbe0>"
      ]
     },
     "execution_count": 10,
     "metadata": {},
     "output_type": "execute_result"
    },
    {
     "data": {
      "text/plain": [
       "<matplotlib.axes._subplots.AxesSubplot at 0x11e88e208>"
      ]
     },
     "execution_count": 10,
     "metadata": {},
     "output_type": "execute_result"
    },
    {
     "data": {
      "image/png": "[encoded data removed]",
      "text/plain": [
       "<Figure size 1440x720 with 4 Axes>"
      ]
     },
     "metadata": {
      "needs_background": "light"
     },
     "output_type": "display_data"
    }
   ],
   "source": [
    "# numerical columns to gender exploration\n",
    "fig, ax = plt.subplots(1, 4, figsize=(20, 10))\n",
    "\n",
    "for var, subplot in zip(numerical_cols, ax.flatten()):\n",
    "    sns.boxplot(x='gender', y=var, data=data, ax=subplot)"
   ]
  },
  {
   "cell_type": "markdown",
   "metadata": {},
   "source": [
    "Baron had said: from the boxplots above, we can safely rule out vowel count, consonant count, and length as strong predictors of gender. Syllables, however, seems like it may be a good predictor."
   ]
  },
  {
   "cell_type": "markdown",
   "metadata": {},
   "source": [
    "However, I am wondering if boxplots are necessarily the best way to look at these variables, as they are integers with a fairly narrow range."
   ]
  },
  {
   "cell_type": "markdown",
   "metadata": {},
   "source": [
    "Let's try a conditional plot for each of these variables like we did for first and last letter."
   ]
  },
  {
   "cell_type": "code",
   "execution_count": 11,
   "metadata": {},
   "outputs": [
    {
     "data": {
      "text/plain": [
       "<seaborn.axisgrid.FacetGrid at 0x11e9ba208>"
      ]
     },
     "execution_count": 11,
     "metadata": {},
     "output_type": "execute_result"
    },
    {
     "data": {
      "image/png": "[encoded data removed]",
      "text/plain": [
       "<Figure size 440x216 with 2 Axes>"
      ]
     },
     "metadata": {
      "needs_background": "light"
     },
     "output_type": "display_data"
    },
    {
     "data": {
      "text/plain": [
       "<seaborn.axisgrid.FacetGrid at 0x11ee23550>"
      ]
     },
     "execution_count": 11,
     "metadata": {},
     "output_type": "execute_result"
    },
    {
     "data": {
      "image/png": "[encoded data removed]",
      "text/plain": [
       "<Figure size 440x216 with 2 Axes>"
      ]
     },
     "metadata": {
      "needs_background": "light"
     },
     "output_type": "display_data"
    },
    {
     "data": {
      "text/plain": [
       "<seaborn.axisgrid.FacetGrid at 0x11e95cba8>"
      ]
     },
     "execution_count": 11,
     "metadata": {},
     "output_type": "execute_result"
    },
    {
     "data": {
      "image/png": "[encoded data removed]",
      "text/plain": [
       "<Figure size 440x216 with 2 Axes>"
      ]
     },
     "metadata": {
      "needs_background": "light"
     },
     "output_type": "display_data"
    },
    {
     "data": {
      "text/plain": [
       "<seaborn.axisgrid.FacetGrid at 0x11eec8c88>"
      ]
     },
     "execution_count": 11,
     "metadata": {},
     "output_type": "execute_result"
    },
    {
     "data": {
      "image/png": "[encoded data removed]",
      "text/plain": [
       "<Figure size 440x216 with 2 Axes>"
      ]
     },
     "metadata": {
      "needs_background": "light"
     },
     "output_type": "display_data"
    }
   ],
   "source": [
    "cond_plot = sns.FacetGrid(data=data, col='gender')\n",
    "cond_plot.map(sns.countplot, 'length').add_legend()\n",
    "plt.tight_layout()\n",
    "plt.show()\n",
    "\n",
    "cond_plot = sns.FacetGrid(data=data, col='gender')\n",
    "cond_plot.map(sns.countplot, 'vowel_count').add_legend()\n",
    "plt.tight_layout()\n",
    "plt.show()\n",
    "\n",
    "cond_plot = sns.FacetGrid(data=data, col='gender')\n",
    "cond_plot.map(sns.countplot, 'consonant_count').add_legend()\n",
    "plt.tight_layout()\n",
    "plt.show()\n",
    "\n",
    "cond_plot = sns.FacetGrid(data=data, col='gender')\n",
    "cond_plot.map(sns.countplot, 'syllables').add_legend()\n",
    "plt.tight_layout()\n",
    "plt.show()"
   ]
  },
  {
   "cell_type": "markdown",
   "metadata": {},
   "source": [
    "Looks like the conclusion still mostly holds that we can exclude length, vowel count, and consonant count."
   ]
  },
  {
   "cell_type": "markdown",
   "metadata": {},
   "source": [
    "## Feature generation"
   ]
  },
  {
   "cell_type": "markdown",
   "metadata": {},
   "source": [
    "### Feature generation function"
   ]
  },
  {
   "cell_type": "markdown",
   "metadata": {},
   "source": [
    "This function will be applied to our lists of names to create the features that we identified as potential predictors above in our initial model \"kitchen sink\" approach. As we refine the model we will also refine this function to include only the features that seem most relevant to our classifier. Vowel count, consonant count, and length have already been removed since they were found above to have no predictive value."
   ]
  },
  {
   "cell_type": "code",
   "execution_count": 12,
   "metadata": {},
   "outputs": [],
   "source": [
    "# feature generator\n",
    "def gender_features(name):\n",
    "    # length of name\n",
    "    #length = len(name)\n",
    "    \n",
    "    # last letter, first letter, vowel last/first letter\n",
    "    first_letter = name[0]\n",
    "    vowel_first_letter = first_letter in 'aeiou'\n",
    "    last_letter = name[-1]\n",
    "    vowel_last_letter = last_letter in 'aeiou'\n",
    "    \n",
    "    # vowel/consonants + counts\n",
    "    #vowels = name.replace(r'[^aeiou]', '')\n",
    "    vowels = tuple([l for l in name if l in ['a','e','i','o','u']])\n",
    "    #vowel_count = len(vowels)\n",
    "    #consonants = name.replace(r'[aeiou]', '')\n",
    "    consonants = tuple([l for l in name if l not in ['a','e','i','o','u']])\n",
    "    #consonant_count = len(consonants)\n",
    "    \n",
    "    # bigrams/trigrams\n",
    "    bigrams = tuple(ngrams(name, 2)) #This used to be list instead of tuple, but got an error about them being unhashable. Solved by using tuple instead.\n",
    "    trigrams = tuple(ngrams(name, 3))\n",
    "    \n",
    "    # syllables\n",
    "    syllables = len(SSP.tokenize(name))\n",
    "    \n",
    "    return {\n",
    "        #'length': length,\n",
    "        'first_letter': first_letter,\n",
    "        'vowel_first_letter': vowel_first_letter,\n",
    "        'last_letter': last_letter,\n",
    "        'vowel_last_letter': vowel_last_letter,\n",
    "        'vowels': vowels,\n",
    "        #'vowel_count': vowel_count,\n",
    "        'consonants': consonants,\n",
    "        #'consonant_count': consonant_count,\n",
    "        'bigrams': bigrams,\n",
    "        'trigrams': trigrams,\n",
    "        'syllables': syllables\n",
    "    }"
   ]
  },
  {
   "cell_type": "markdown",
   "metadata": {},
   "source": [
    "### Training/test split and apply feature generation function."
   ]
  },
  {
   "cell_type": "code",
   "execution_count": 13,
   "metadata": {},
   "outputs": [],
   "source": [
    "# create each set of data\n",
    "final_test = all_names[:500]\n",
    "training_and_dev_test = all_names[-7400:]\n",
    "\n",
    "#Shuffle the training + dev test data, then separate.\n",
    "#We are doing it this way so we can redo this as we refine the model.\n",
    "random.shuffle(training_and_dev_test)\n",
    "dev_test = training_and_dev_test[:500]\n",
    "training = training_and_dev_test[500:]\n",
    "\n",
    "# apply feature generation function\n",
    "dev_test_features = [(gender_features(name), gender) for name, gender in dev_test]\n",
    "training_features = [(gender_features(name), gender) for name, gender in training]"
   ]
  },
  {
   "cell_type": "markdown",
   "metadata": {},
   "source": [
    "## Apply model."
   ]
  },
  {
   "cell_type": "markdown",
   "metadata": {},
   "source": [
    "### Initial model"
   ]
  },
  {
   "cell_type": "markdown",
   "metadata": {},
   "source": [
    "Now that we have all our features and have run training/test split, we are ready to apply the model."
   ]
  },
  {
   "cell_type": "code",
   "execution_count": 14,
   "metadata": {},
   "outputs": [
    {
     "name": "stdout",
     "output_type": "stream",
     "text": [
      "  ==> Training (100 iterations)\n"
     ]
    }
   ],
   "source": [
    "classifier = nltk.MaxentClassifier.train(training_features,trace=1)"
   ]
  },
  {
   "cell_type": "markdown",
   "metadata": {},
   "source": [
    "Look at the accuracy on the training data, just as a sanity check."
   ]
  },
  {
   "cell_type": "code",
   "execution_count": 15,
   "metadata": {},
   "outputs": [
    {
     "data": {
      "text/plain": [
       "0.9588405797101449"
      ]
     },
     "execution_count": 15,
     "metadata": {},
     "output_type": "execute_result"
    }
   ],
   "source": [
    "nltk.classify.accuracy(classifier, training_features)"
   ]
  },
  {
   "cell_type": "markdown",
   "metadata": {},
   "source": [
    "Accuracy on the training data is very high, which is good."
   ]
  },
  {
   "cell_type": "markdown",
   "metadata": {},
   "source": [
    "Let's also look at accuracy for the initial test data, again just as a sanity check."
   ]
  },
  {
   "cell_type": "code",
   "execution_count": 16,
   "metadata": {},
   "outputs": [
    {
     "data": {
      "text/plain": [
       "0.782"
      ]
     },
     "execution_count": 16,
     "metadata": {},
     "output_type": "execute_result"
    }
   ],
   "source": [
    "nltk.classify.accuracy(classifier, dev_test_features)"
   ]
  },
  {
   "cell_type": "markdown",
   "metadata": {},
   "source": [
    "We will want to play around with which features to include or exclude to see if we can improve the accuracy here, as this accuracy score on the test data really isn't the best.\n",
    "\n",
    "But this is a good start!"
   ]
  },
  {
   "cell_type": "markdown",
   "metadata": {},
   "source": [
    "### Refining the model"
   ]
  },
  {
   "cell_type": "markdown",
   "metadata": {},
   "source": [
    "Let's work on seeing if we should remove features (or possibly add new features) to improve accuracy."
   ]
  },
  {
   "cell_type": "markdown",
   "metadata": {},
   "source": [
    "Start by examining the errors, similar to what was done in the textbook."
   ]
  },
  {
   "cell_type": "code",
   "execution_count": 17,
   "metadata": {},
   "outputs": [],
   "source": [
    "errors = []\n",
    "\n",
    "for (name,tag) in dev_test:\n",
    "    guess = classifier.classify(gender_features(name))\n",
    "    if guess != tag:\n",
    "        errors.append((tag,guess,name))"
   ]
  },
  {
   "cell_type": "code",
   "execution_count": 18,
   "metadata": {},
   "outputs": [
    {
     "name": "stdout",
     "output_type": "stream",
     "text": [
      "correct=female   guess=male     name=aigneis                       \n",
      "correct=female   guess=male     name=ajay                          \n",
      "correct=female   guess=male     name=alfie                         \n",
      "correct=female   guess=male     name=ali                           \n",
      "correct=female   guess=male     name=andrea                        \n",
      "correct=female   guess=male     name=angie                         \n",
      "correct=female   guess=male     name=aubrey                        \n",
      "correct=female   guess=male     name=bel                           \n",
      "correct=female   guess=male     name=bernie                        \n",
      "correct=female   guess=male     name=bridget                       \n",
      "correct=female   guess=male     name=calypso                       \n",
      "correct=female   guess=male     name=carrol                        \n",
      "correct=female   guess=male     name=claire                        \n",
      "correct=female   guess=male     name=dagmar                        \n",
      "correct=female   guess=male     name=debor                         \n",
      "correct=female   guess=male     name=denys                         \n",
      "correct=female   guess=male     name=esme                          \n",
      "correct=female   guess=male     name=felice                        \n",
      "correct=female   guess=male     name=gene                          \n",
      "correct=female   guess=male     name=gerry                         \n",
      "correct=female   guess=male     name=glory                         \n",
      "correct=female   guess=male     name=grace                         \n",
      "correct=female   guess=male     name=inger                         \n",
      "correct=female   guess=male     name=janel                         \n",
      "correct=female   guess=male     name=leah                          \n",
      "correct=female   guess=male     name=lesley                        \n",
      "correct=female   guess=male     name=linell                        \n",
      "correct=female   guess=male     name=lulu                          \n",
      "correct=female   guess=male     name=madel                         \n",
      "correct=female   guess=male     name=mairead                       \n",
      "correct=female   guess=male     name=marys                         \n",
      "correct=female   guess=male     name=melony                        \n",
      "correct=female   guess=male     name=michal                        \n",
      "correct=female   guess=male     name=nichole                       \n",
      "correct=female   guess=male     name=rhody                         \n",
      "correct=female   guess=male     name=rickie                        \n",
      "correct=female   guess=male     name=row                           \n",
      "correct=female   guess=male     name=scotty                        \n",
      "correct=female   guess=male     name=shane                         \n",
      "correct=female   guess=male     name=shay                          \n",
      "correct=female   guess=male     name=sibley                        \n",
      "correct=female   guess=male     name=sonnie                        \n",
      "correct=female   guess=male     name=sonny                         \n",
      "correct=female   guess=male     name=stacey                        \n",
      "correct=female   guess=male     name=tabbie                        \n",
      "correct=female   guess=male     name=tatum                         \n",
      "correct=female   guess=male     name=teddy                         \n",
      "correct=female   guess=male     name=trish                         \n",
      "correct=female   guess=male     name=veradis                       \n",
      "correct=female   guess=male     name=wallie                        \n",
      "correct=female   guess=male     name=wilow                         \n",
      "correct=female   guess=male     name=yoko                          \n",
      "correct=male     guess=female   name=arie                          \n",
      "correct=male     guess=female   name=ave                           \n",
      "correct=male     guess=female   name=barth                         \n",
      "correct=male     guess=female   name=bob                           \n",
      "correct=male     guess=female   name=cecil                         \n",
      "correct=male     guess=female   name=christophe                    \n",
      "correct=male     guess=female   name=corky                         \n",
      "correct=male     guess=female   name=cyrille                       \n",
      "correct=male     guess=female   name=darien                        \n",
      "correct=male     guess=female   name=derby                         \n",
      "correct=male     guess=female   name=duffie                        \n",
      "correct=male     guess=female   name=dwayne                        \n",
      "correct=male     guess=female   name=ellis                         \n",
      "correct=male     guess=female   name=erny                          \n",
      "correct=male     guess=female   name=esteban                       \n",
      "correct=male     guess=female   name=fabian                        \n",
      "correct=male     guess=female   name=fairfax                       \n",
      "correct=male     guess=female   name=felix                         \n",
      "correct=male     guess=female   name=florian                       \n",
      "correct=male     guess=female   name=franklin                      \n",
      "correct=male     guess=female   name=gabriell                      \n",
      "correct=male     guess=female   name=giorgi                        \n",
      "correct=male     guess=female   name=hale                          \n",
      "correct=male     guess=female   name=haley                         \n",
      "correct=male     guess=female   name=hall                          \n",
      "correct=male     guess=female   name=hans-peter                    \n",
      "correct=male     guess=female   name=henri                         \n",
      "correct=male     guess=female   name=holly                         \n",
      "correct=male     guess=female   name=jeremie                       \n",
      "correct=male     guess=female   name=jerri                         \n",
      "correct=male     guess=female   name=jonah                         \n",
      "correct=male     guess=female   name=karsten                       \n",
      "correct=male     guess=female   name=loren                         \n",
      "correct=male     guess=female   name=madison                       \n",
      "correct=male     guess=female   name=marilu                        \n",
      "correct=male     guess=female   name=martyn                        \n",
      "correct=male     guess=female   name=meade                         \n",
      "correct=male     guess=female   name=merrel                        \n",
      "correct=male     guess=female   name=mickie                        \n",
      "correct=male     guess=female   name=millicent                     \n",
      "correct=male     guess=female   name=mohan                         \n",
      "correct=male     guess=female   name=murphy                        \n",
      "correct=male     guess=female   name=normie                        \n",
      "correct=male     guess=female   name=page                          \n",
      "correct=male     guess=female   name=pascale                       \n",
      "correct=male     guess=female   name=patsy                         \n",
      "correct=male     guess=female   name=randi                         \n",
      "correct=male     guess=female   name=raphael                       \n",
      "correct=male     guess=female   name=reza                          \n",
      "correct=male     guess=female   name=ronny                         \n",
      "correct=male     guess=female   name=ruby                          \n",
      "correct=male     guess=female   name=rufe                          \n",
      "correct=male     guess=female   name=saundra                       \n",
      "correct=male     guess=female   name=sinclare                      \n",
      "correct=male     guess=female   name=stevie                        \n",
      "correct=male     guess=female   name=tracey                        \n",
      "correct=male     guess=female   name=verne                         \n"
     ]
    }
   ],
   "source": [
    "for (tag,guess,name) in sorted(errors):\n",
    "    print('correct={:<8} guess={:<8s} name={:30}'.format(tag,guess,name))"
   ]
  },
  {
   "cell_type": "markdown",
   "metadata": {},
   "source": [
    "We see some of what they saw in the textbook example, where we may want to add a feature for the last two letters."
   ]
  },
  {
   "cell_type": "markdown",
   "metadata": {},
   "source": [
    "We also see, which the textbook did not mention, that there are a fair number of unisex names in this data set.\n",
    "\n",
    "For example, \"willy\" is listed as both a male and female name. So it is not surprising that the classifier did not guess this as a female name."
   ]
  },
  {
   "cell_type": "markdown",
   "metadata": {},
   "source": [
    "Anyway, let's try adding a \"suffix2\" feature and see if that improves accuracy.\n",
    "\n",
    "Run using both the same and a different training and dev test set."
   ]
  },
  {
   "cell_type": "code",
   "execution_count": 19,
   "metadata": {},
   "outputs": [],
   "source": [
    "# feature generator\n",
    "def gender_features(name):\n",
    "    # length of name\n",
    "    #length = len(name)\n",
    "    \n",
    "    # last letter, first letter, vowel last/first letter\n",
    "    first_letter = name[0]\n",
    "    vowel_first_letter = first_letter in 'aeiou'\n",
    "    last_letter = name[-1]\n",
    "    last_two_letters = name[-2:]\n",
    "    vowel_last_letter = last_letter in 'aeiou'\n",
    "    \n",
    "    # vowel/consonants + counts\n",
    "    #vowels = name.replace(r'[^aeiou]', '')\n",
    "    vowels = tuple([l for l in name if l in ['a','e','i','o','u']])\n",
    "    #vowel_count = len(vowels)\n",
    "    #consonants = name.replace(r'[aeiou]', '')\n",
    "    consonants = tuple([l for l in name if l not in ['a','e','i','o','u']])\n",
    "    #consonant_count = len(consonants)\n",
    "    \n",
    "    # bigrams/trigrams\n",
    "    bigrams = tuple(ngrams(name, 2)) #This used to be list instead of tuple, but got an error about them being unhashable. Solved by using tuple instead.\n",
    "    trigrams = tuple(ngrams(name, 3))\n",
    "    \n",
    "    # syllables\n",
    "    syllables = len(SSP.tokenize(name))\n",
    "    \n",
    "    return {\n",
    "        #'length': length,\n",
    "        'first_letter': first_letter,\n",
    "        'vowel_first_letter': vowel_first_letter,\n",
    "        'last_letter': last_letter,\n",
    "        'last_two_letters': last_two_letters,\n",
    "        'vowel_last_letter': vowel_last_letter,\n",
    "        'vowels': vowels,\n",
    "        #'vowel_count': vowel_count,\n",
    "        'consonants': consonants,\n",
    "        #'consonant_count': consonant_count,\n",
    "        'bigrams': bigrams,\n",
    "        'trigrams': trigrams,\n",
    "        'syllables': syllables\n",
    "    }"
   ]
  },
  {
   "cell_type": "code",
   "execution_count": 20,
   "metadata": {},
   "outputs": [],
   "source": [
    "dev_test_features = [(gender_features(name), gender) for name, gender in dev_test]\n",
    "training_features = [(gender_features(name), gender) for name, gender in training]\n",
    "\n",
    "random.shuffle(training_and_dev_test)\n",
    "dev_test2 = training_and_dev_test[:500]\n",
    "training2 = training_and_dev_test[500:]\n",
    "\n",
    "dev_test_features2 = [(gender_features(name), gender) for name, gender in dev_test2]\n",
    "training_features2 = [(gender_features(name), gender) for name, gender in training2]"
   ]
  },
  {
   "cell_type": "code",
   "execution_count": 21,
   "metadata": {},
   "outputs": [
    {
     "name": "stdout",
     "output_type": "stream",
     "text": [
      "  ==> Training (100 iterations)\n",
      "  ==> Training (100 iterations)\n"
     ]
    }
   ],
   "source": [
    "classifier1 = nltk.MaxentClassifier.train(training_features,trace=1)\n",
    "classifier2 = nltk.MaxentClassifier.train(training_features2,trace=1)"
   ]
  },
  {
   "cell_type": "code",
   "execution_count": 22,
   "metadata": {},
   "outputs": [
    {
     "data": {
      "text/plain": [
       "0.9588405797101449"
      ]
     },
     "execution_count": 22,
     "metadata": {},
     "output_type": "execute_result"
    },
    {
     "data": {
      "text/plain": [
       "0.802"
      ]
     },
     "execution_count": 22,
     "metadata": {},
     "output_type": "execute_result"
    },
    {
     "data": {
      "text/plain": [
       "0.9582608695652174"
      ]
     },
     "execution_count": 22,
     "metadata": {},
     "output_type": "execute_result"
    },
    {
     "data": {
      "text/plain": [
       "0.806"
      ]
     },
     "execution_count": 22,
     "metadata": {},
     "output_type": "execute_result"
    }
   ],
   "source": [
    "nltk.classify.accuracy(classifier1, training_features)\n",
    "nltk.classify.accuracy(classifier1, dev_test_features)\n",
    "\n",
    "nltk.classify.accuracy(classifier2, training_features2)\n",
    "nltk.classify.accuracy(classifier2, dev_test_features2)"
   ]
  },
  {
   "cell_type": "markdown",
   "metadata": {},
   "source": [
    "We see the same ~2% improvement in accuracy that they got in the textbook.\n",
    "\n",
    "We also see similar accuracy using two different randomly chosen training and test data sets."
   ]
  },
  {
   "cell_type": "markdown",
   "metadata": {},
   "source": [
    "Let's look at errors again. Use the second training/test split."
   ]
  },
  {
   "cell_type": "code",
   "execution_count": 23,
   "metadata": {},
   "outputs": [
    {
     "name": "stdout",
     "output_type": "stream",
     "text": [
      "correct=female   guess=male     name=abbie                         \n",
      "correct=female   guess=male     name=agnes                         \n",
      "correct=female   guess=male     name=ajay                          \n",
      "correct=female   guess=male     name=allyson                       \n",
      "correct=female   guess=male     name=amber                         \n",
      "correct=female   guess=male     name=andy                          \n",
      "correct=female   guess=male     name=avis                          \n",
      "correct=female   guess=male     name=bab                           \n",
      "correct=female   guess=male     name=billy                         \n",
      "correct=female   guess=male     name=blair                         \n",
      "correct=female   guess=male     name=brooks                        \n",
      "correct=female   guess=male     name=carmine                       \n",
      "correct=female   guess=male     name=cinnamon                      \n",
      "correct=female   guess=male     name=daloris                       \n",
      "correct=female   guess=male     name=dennie                        \n",
      "correct=female   guess=male     name=devin                         \n",
      "correct=female   guess=male     name=dion                          \n",
      "correct=female   guess=male     name=ethelind                      \n",
      "correct=female   guess=male     name=gladis                        \n",
      "correct=female   guess=male     name=glynnis                       \n",
      "correct=female   guess=male     name=grethel                       \n",
      "correct=female   guess=male     name=helen                         \n",
      "correct=female   guess=male     name=ira                           \n",
      "correct=female   guess=male     name=jennifer                      \n",
      "correct=female   guess=male     name=jess                          \n",
      "correct=female   guess=male     name=jourdan                       \n",
      "correct=female   guess=male     name=kial                          \n",
      "correct=female   guess=male     name=lorne                         \n",
      "correct=female   guess=male     name=lust                          \n",
      "correct=female   guess=male     name=margo                         \n",
      "correct=female   guess=male     name=marlo                         \n",
      "correct=female   guess=male     name=miriam                        \n",
      "correct=female   guess=male     name=nil                           \n",
      "correct=female   guess=male     name=ricki                         \n",
      "correct=female   guess=male     name=rivy                          \n",
      "correct=female   guess=male     name=row                           \n",
      "correct=female   guess=male     name=suzy                          \n",
      "correct=female   guess=male     name=theo                          \n",
      "correct=female   guess=male     name=zoe                           \n",
      "correct=male     guess=female   name=ace                           \n",
      "correct=male     guess=female   name=adlai                         \n",
      "correct=male     guess=female   name=adrian                        \n",
      "correct=male     guess=female   name=adrien                        \n",
      "correct=male     guess=female   name=aguste                        \n",
      "correct=male     guess=female   name=arel                          \n",
      "correct=male     guess=female   name=arvie                         \n",
      "correct=male     guess=female   name=aubrey                        \n",
      "correct=male     guess=female   name=averell                       \n",
      "correct=male     guess=female   name=barri                         \n",
      "correct=male     guess=female   name=bert                          \n",
      "correct=male     guess=female   name=bill                          \n",
      "correct=male     guess=female   name=bjorne                        \n",
      "correct=male     guess=female   name=cam                           \n",
      "correct=male     guess=female   name=chariot                       \n",
      "correct=male     guess=female   name=christiano                    \n",
      "correct=male     guess=female   name=cory                          \n",
      "correct=male     guess=female   name=costa                         \n",
      "correct=male     guess=female   name=deane                         \n",
      "correct=male     guess=female   name=derby                         \n",
      "correct=male     guess=female   name=earl                          \n",
      "correct=male     guess=female   name=earle                         \n",
      "correct=male     guess=female   name=erny                          \n",
      "correct=male     guess=female   name=eugene                        \n",
      "correct=male     guess=female   name=frank                         \n",
      "correct=male     guess=female   name=gabriele                      \n",
      "correct=male     guess=female   name=georgia                       \n",
      "correct=male     guess=female   name=harley                        \n",
      "correct=male     guess=female   name=isidore                       \n",
      "correct=male     guess=female   name=jerri                         \n",
      "correct=male     guess=female   name=jordy                         \n",
      "correct=male     guess=female   name=jose                          \n",
      "correct=male     guess=female   name=jule                          \n",
      "correct=male     guess=female   name=kalle                         \n",
      "correct=male     guess=female   name=kingsly                       \n",
      "correct=male     guess=female   name=levi                          \n",
      "correct=male     guess=female   name=marchall                      \n",
      "correct=male     guess=female   name=michale                       \n",
      "correct=male     guess=female   name=neal                          \n",
      "correct=male     guess=female   name=ollie                         \n",
      "correct=male     guess=female   name=paige                         \n",
      "correct=male     guess=female   name=patsy                         \n",
      "correct=male     guess=female   name=rabi                          \n",
      "correct=male     guess=female   name=rene                          \n",
      "correct=male     guess=female   name=shaun                         \n",
      "correct=male     guess=female   name=shelby                        \n",
      "correct=male     guess=female   name=siffre                        \n",
      "correct=male     guess=female   name=simone                        \n",
      "correct=male     guess=female   name=skippie                       \n",
      "correct=male     guess=female   name=sky                           \n",
      "correct=male     guess=female   name=steffen                       \n",
      "correct=male     guess=female   name=taite                         \n",
      "correct=male     guess=female   name=timothee                      \n",
      "correct=male     guess=female   name=toddie                        \n",
      "correct=male     guess=female   name=tremaine                      \n",
      "correct=male     guess=female   name=vince                         \n",
      "correct=male     guess=female   name=winnie                        \n",
      "correct=male     guess=female   name=zane                          \n"
     ]
    }
   ],
   "source": [
    "errors = []\n",
    "\n",
    "for (name,tag) in dev_test2:\n",
    "    guess = classifier2.classify(gender_features(name))\n",
    "    if guess != tag:\n",
    "        errors.append((tag,guess,name))       \n",
    "        \n",
    "for (tag,guess,name) in sorted(errors):\n",
    "    print('correct={:<8} guess={:<8s} name={:30}'.format(tag,guess,name))        "
   ]
  },
  {
   "cell_type": "markdown",
   "metadata": {},
   "source": [
    "Nothing is jumping out at me this time.\n",
    "\n",
    "Let's look at bigrams in names incorrectly labeled as male (actually female) and vice versa."
   ]
  },
  {
   "cell_type": "code",
   "execution_count": 24,
   "metadata": {},
   "outputs": [
    {
     "data": {
      "text/plain": [
       "[(('r', 'i'), 4),\n",
       " (('n', 'n'), 4),\n",
       " (('n', 'i'), 4),\n",
       " (('i', 's'), 4),\n",
       " (('i', 'n'), 4),\n",
       " (('h', 'e'), 4),\n",
       " (('t', 'h'), 3),\n",
       " (('o', 'n'), 3),\n",
       " (('n', 'e'), 3),\n",
       " (('l', 'y'), 3),\n",
       " (('l', 'o'), 3),\n",
       " (('i', 'r'), 3),\n",
       " (('e', 'n'), 3),\n",
       " (('e', 'l'), 3),\n",
       " (('a', 'r'), 3),\n",
       " (('a', 'm'), 3),\n",
       " (('a', 'l'), 3),\n",
       " (('v', 'i'), 2),\n",
       " (('r', 'o'), 2),\n",
       " (('o', 'r'), 2),\n",
       " (('n', 'd'), 2),\n",
       " (('m', 'i'), 2),\n",
       " (('m', 'a'), 2),\n",
       " (('l', 'l'), 2),\n",
       " (('l', 'a'), 2),\n",
       " (('k', 'i'), 2),\n",
       " (('j', 'e'), 2),\n",
       " (('i', 'l'), 2),\n",
       " (('i', 'e'), 2),\n",
       " (('i', 'a'), 2),\n",
       " (('g', 'l'), 2),\n",
       " (('e', 't'), 2),\n",
       " (('e', 's'), 2),\n",
       " (('e', 'r'), 2),\n",
       " (('d', 'i'), 2),\n",
       " (('d', 'e'), 2),\n",
       " (('d', 'a'), 2),\n",
       " (('b', 'i'), 2),\n",
       " (('a', 'n'), 2),\n",
       " (('a', 'b'), 2),\n",
       " (('z', 'y'), 1),\n",
       " (('z', 'o'), 1),\n",
       " (('y', 's'), 1),\n",
       " (('y', 'n'), 1),\n",
       " (('v', 'y'), 1),\n",
       " (('u', 'z'), 1),\n",
       " (('u', 's'), 1),\n",
       " (('u', 'r'), 1),\n",
       " (('s', 'u'), 1),\n",
       " (('s', 't'), 1),\n",
       " (('s', 's'), 1),\n",
       " (('s', 'o'), 1),\n",
       " (('r', 'n'), 1),\n",
       " (('r', 'm'), 1),\n",
       " (('r', 'l'), 1),\n",
       " (('r', 'g'), 1),\n",
       " (('r', 'e'), 1),\n",
       " (('r', 'd'), 1),\n",
       " (('r', 'a'), 1),\n",
       " (('o', 'w'), 1),\n",
       " (('o', 'u'), 1),\n",
       " (('o', 'o'), 1),\n",
       " (('o', 'k'), 1),\n",
       " (('o', 'e'), 1),\n",
       " (('n', 'a'), 1),\n",
       " (('m', 'o'), 1),\n",
       " (('m', 'b'), 1),\n",
       " (('l', 'u'), 1),\n",
       " (('l', 'i'), 1),\n",
       " (('l', 'e'), 1),\n",
       " (('k', 's'), 1),\n",
       " (('j', 'o'), 1),\n",
       " (('j', 'a'), 1),\n",
       " (('i', 'v'), 1),\n",
       " (('i', 'o'), 1),\n",
       " (('i', 'f'), 1),\n",
       " (('i', 'c'), 1),\n",
       " (('g', 'r'), 1),\n",
       " (('g', 'o'), 1),\n",
       " (('g', 'n'), 1),\n",
       " (('f', 'e'), 1),\n",
       " (('e', 'v'), 1),\n",
       " (('e', 'o'), 1),\n",
       " (('d', 'y'), 1),\n",
       " (('c', 'k'), 1),\n",
       " (('c', 'i'), 1),\n",
       " (('c', 'a'), 1),\n",
       " (('b', 'r'), 1),\n",
       " (('b', 'l'), 1),\n",
       " (('b', 'e'), 1),\n",
       " (('b', 'b'), 1),\n",
       " (('b', 'a'), 1),\n",
       " (('a', 'y'), 1),\n",
       " (('a', 'v'), 1),\n",
       " (('a', 'j'), 1),\n",
       " (('a', 'i'), 1),\n",
       " (('a', 'g'), 1),\n",
       " (('a', 'd'), 1)]"
      ]
     },
     "execution_count": 24,
     "metadata": {},
     "output_type": "execute_result"
    }
   ],
   "source": [
    "bigrams_actually_opposite = [list(ngrams(name,2)) for tag,guess,name in sorted(errors) if tag == \"female\"]\n",
    "bigrams_actually_opposite = [item for sublist in bigrams_actually_opposite for item in sublist]\n",
    "bigrams_actually_opposite_count = Counter(bigrams_actually_opposite)\n",
    "[(l,k) for k,l in sorted([(j,i) for i,j in bigrams_actually_opposite_count.items()],reverse=True)]"
   ]
  },
  {
   "cell_type": "code",
   "execution_count": 25,
   "metadata": {},
   "outputs": [
    {
     "data": {
      "text/plain": [
       "[(('n', 'e'), 8),\n",
       " (('a', 'r'), 8),\n",
       " (('r', 'i'), 7),\n",
       " (('r', 'e'), 7),\n",
       " (('l', 'e'), 7),\n",
       " (('i', 'e'), 7),\n",
       " (('o', 'r'), 5),\n",
       " (('l', 'l'), 5),\n",
       " (('h', 'a'), 5),\n",
       " (('e', 'r'), 5),\n",
       " (('a', 'n'), 5),\n",
       " (('s', 't'), 4),\n",
       " (('i', 'n'), 4),\n",
       " (('e', 'n'), 4),\n",
       " (('e', 'l'), 4),\n",
       " (('e', 'a'), 4),\n",
       " (('c', 'h'), 4),\n",
       " (('a', 'l'), 4),\n",
       " (('a', 'i'), 4),\n",
       " (('v', 'i'), 3),\n",
       " (('t', 'e'), 3),\n",
       " (('s', 'i'), 3),\n",
       " (('r', 'l'), 3),\n",
       " (('j', 'o'), 3),\n",
       " (('i', 'a'), 3),\n",
       " (('g', 'e'), 3),\n",
       " (('a', 'd'), 3),\n",
       " (('t', 'i'), 2),\n",
       " (('t', 'a'), 2),\n",
       " (('s', 'k'), 2),\n",
       " (('s', 'h'), 2),\n",
       " (('r', 'r'), 2),\n",
       " (('r', 'n'), 2),\n",
       " (('r', 'a'), 2),\n",
       " (('p', 'a'), 2),\n",
       " (('o', 't'), 2),\n",
       " (('o', 's'), 2),\n",
       " (('m', 'o'), 2),\n",
       " (('m', 'a'), 2),\n",
       " (('k', 'i'), 2),\n",
       " (('i', 's'), 2),\n",
       " (('i', 'm'), 2),\n",
       " (('h', 'e'), 2),\n",
       " (('f', 'r'), 2),\n",
       " (('f', 'f'), 2),\n",
       " (('e', 'y'), 2),\n",
       " (('d', 'r'), 2),\n",
       " (('d', 'e'), 2),\n",
       " (('c', 'o'), 2),\n",
       " (('c', 'e'), 2),\n",
       " (('b', 'y'), 2),\n",
       " (('b', 'r'), 2),\n",
       " (('b', 'i'), 2),\n",
       " (('a', 'u'), 2),\n",
       " (('a', 'b'), 2),\n",
       " (('z', 'a'), 1),\n",
       " (('w', 'i'), 1),\n",
       " (('v', 'e'), 1),\n",
       " (('u', 's'), 1),\n",
       " (('u', 'n'), 1),\n",
       " (('u', 'l'), 1),\n",
       " (('u', 'g'), 1),\n",
       " (('u', 'b'), 1),\n",
       " (('t', 's'), 1),\n",
       " (('t', 'r'), 1),\n",
       " (('t', 'o'), 1),\n",
       " (('t', 'h'), 1),\n",
       " (('s', 'y'), 1),\n",
       " (('s', 'l'), 1),\n",
       " (('s', 'e'), 1),\n",
       " (('r', 'y'), 1),\n",
       " (('r', 'v'), 1),\n",
       " (('r', 't'), 1),\n",
       " (('r', 'g'), 1),\n",
       " (('r', 'd'), 1),\n",
       " (('r', 'c'), 1),\n",
       " (('r', 'b'), 1),\n",
       " (('p', 'p'), 1),\n",
       " (('p', 'i'), 1),\n",
       " (('o', 'n'), 1),\n",
       " (('o', 'l'), 1),\n",
       " (('o', 'd'), 1),\n",
       " (('n', 'y'), 1),\n",
       " (('n', 'o'), 1),\n",
       " (('n', 'n'), 1),\n",
       " (('n', 'k'), 1),\n",
       " (('n', 'i'), 1),\n",
       " (('n', 'g'), 1),\n",
       " (('n', 'c'), 1),\n",
       " (('m', 'i'), 1),\n",
       " (('l', 'y'), 1),\n",
       " (('l', 'i'), 1),\n",
       " (('l', 'b'), 1),\n",
       " (('l', 'a'), 1),\n",
       " (('k', 'y'), 1),\n",
       " (('k', 'a'), 1),\n",
       " (('j', 'u'), 1),\n",
       " (('j', 'e'), 1),\n",
       " (('i', 't'), 1),\n",
       " (('i', 'p'), 1),\n",
       " (('i', 'o'), 1),\n",
       " (('i', 'l'), 1),\n",
       " (('i', 'g'), 1),\n",
       " (('i', 'f'), 1),\n",
       " (('i', 'd'), 1),\n",
       " (('i', 'c'), 1),\n",
       " (('h', 'r'), 1),\n",
       " (('g', 'u'), 1),\n",
       " (('g', 's'), 1),\n",
       " (('g', 'i'), 1),\n",
       " (('g', 'a'), 1),\n",
       " (('f', 'e'), 1),\n",
       " (('e', 'v'), 1),\n",
       " (('e', 'u'), 1),\n",
       " (('e', 'o'), 1),\n",
       " (('e', 'm'), 1),\n",
       " (('e', 'f'), 1),\n",
       " (('e', 'e'), 1),\n",
       " (('d', 'y'), 1),\n",
       " (('d', 'o'), 1),\n",
       " (('d', 'l'), 1),\n",
       " (('d', 'i'), 1),\n",
       " (('d', 'd'), 1),\n",
       " (('c', 'a'), 1),\n",
       " (('b', 'j'), 1),\n",
       " (('b', 'e'), 1),\n",
       " (('b', 'a'), 1),\n",
       " (('a', 'v'), 1),\n",
       " (('a', 't'), 1),\n",
       " (('a', 'm'), 1),\n",
       " (('a', 'g'), 1),\n",
       " (('a', 'c'), 1)]"
      ]
     },
     "execution_count": 25,
     "metadata": {},
     "output_type": "execute_result"
    }
   ],
   "source": [
    "bigrams_actually_opposite = [list(ngrams(name,2)) for tag,guess,name in sorted(errors) if tag == \"male\"]\n",
    "bigrams_actually_opposite = [item for sublist in bigrams_actually_opposite for item in sublist]\n",
    "bigrams_actually_opposite_count = Counter(bigrams_actually_opposite)\n",
    "[(l,k) for k,l in sorted([(j,i) for i,j in bigrams_actually_opposite_count.items()],reverse=True)]"
   ]
  },
  {
   "cell_type": "markdown",
   "metadata": {},
   "source": [
    "Let's try adding a first two letters feature, since adding a last two letters feature was so helpful.\n",
    "\n",
    "Hoping that will resolve some new issues we are seeing now, like names ending in \"ne\" sometimes being classified incorrectly as female instead of male."
   ]
  },
  {
   "cell_type": "code",
   "execution_count": 26,
   "metadata": {},
   "outputs": [],
   "source": [
    "# feature generator\n",
    "def gender_features(name):\n",
    "    # length of name\n",
    "    #length = len(name)\n",
    "    \n",
    "    # last letter, first letter, vowel last/first letter\n",
    "    first_letter = name[0]\n",
    "    first_two_letters = name[0:2]\n",
    "    vowel_first_letter = first_letter in 'aeiou'\n",
    "    last_letter = name[-1]\n",
    "    last_two_letters = name[-2:]\n",
    "    vowel_last_letter = last_letter in 'aeiou'\n",
    "    \n",
    "    # vowel/consonants + counts\n",
    "    #vowels = name.replace(r'[^aeiou]', '')\n",
    "    vowels = tuple([l for l in name if l in ['a','e','i','o','u']])\n",
    "    #vowel_count = len(vowels)\n",
    "    #consonants = name.replace(r'[aeiou]', '')\n",
    "    consonants = tuple([l for l in name if l not in ['a','e','i','o','u']])\n",
    "    #consonant_count = len(consonants)\n",
    "    \n",
    "    # bigrams/trigrams\n",
    "    bigrams = tuple(ngrams(name, 2)) #This used to be list instead of tuple, but got an error about them being unhashable. Solved by using tuple instead.\n",
    "    trigrams = tuple(ngrams(name, 3))\n",
    "    \n",
    "    # syllables\n",
    "    syllables = len(SSP.tokenize(name))\n",
    "    \n",
    "    return {\n",
    "        #'length': length,\n",
    "        'first_letter': first_letter,\n",
    "        'first_two_letters': first_two_letters,\n",
    "        'vowel_first_letter': vowel_first_letter,\n",
    "        'last_letter': last_letter,\n",
    "        'last_two_letters': last_two_letters,\n",
    "        'vowel_last_letter': vowel_last_letter,\n",
    "        'vowels': vowels,\n",
    "        #'vowel_count': vowel_count,\n",
    "        'consonants': consonants,\n",
    "        #'consonant_count': consonant_count,\n",
    "        'bigrams': bigrams,\n",
    "        'trigrams': trigrams,\n",
    "        'syllables': syllables\n",
    "    }"
   ]
  },
  {
   "cell_type": "code",
   "execution_count": 27,
   "metadata": {},
   "outputs": [],
   "source": [
    "dev_test_features = [(gender_features(name), gender) for name, gender in dev_test]\n",
    "training_features = [(gender_features(name), gender) for name, gender in training]\n",
    "\n",
    "dev_test_features2 = [(gender_features(name), gender) for name, gender in dev_test2]\n",
    "training_features2 = [(gender_features(name), gender) for name, gender in training2]\n",
    "\n",
    "random.shuffle(training_and_dev_test)\n",
    "dev_test3 = training_and_dev_test[:500]\n",
    "training3 = training_and_dev_test[500:]\n",
    "\n",
    "dev_test_features3 = [(gender_features(name), gender) for name, gender in dev_test3]\n",
    "training_features3 = [(gender_features(name), gender) for name, gender in training3]"
   ]
  },
  {
   "cell_type": "code",
   "execution_count": 28,
   "metadata": {},
   "outputs": [
    {
     "name": "stdout",
     "output_type": "stream",
     "text": [
      "  ==> Training (100 iterations)\n",
      "  ==> Training (100 iterations)\n"
     ]
    }
   ],
   "source": [
    "classifier1v2 = nltk.MaxentClassifier.train(training_features,trace=1)\n",
    "classifier2v2 = nltk.MaxentClassifier.train(training_features2,trace=1)"
   ]
  },
  {
   "cell_type": "code",
   "execution_count": 29,
   "metadata": {},
   "outputs": [
    {
     "name": "stdout",
     "output_type": "stream",
     "text": [
      "  ==> Training (100 iterations)\n"
     ]
    }
   ],
   "source": [
    "classifier3 = nltk.MaxentClassifier.train(training_features3,trace=1)"
   ]
  },
  {
   "cell_type": "code",
   "execution_count": 30,
   "metadata": {},
   "outputs": [
    {
     "data": {
      "text/plain": [
       "0.9588405797101449"
      ]
     },
     "execution_count": 30,
     "metadata": {},
     "output_type": "execute_result"
    },
    {
     "data": {
      "text/plain": [
       "0.81"
      ]
     },
     "execution_count": 30,
     "metadata": {},
     "output_type": "execute_result"
    },
    {
     "data": {
      "text/plain": [
       "0.9582608695652174"
      ]
     },
     "execution_count": 30,
     "metadata": {},
     "output_type": "execute_result"
    },
    {
     "data": {
      "text/plain": [
       "0.796"
      ]
     },
     "execution_count": 30,
     "metadata": {},
     "output_type": "execute_result"
    },
    {
     "data": {
      "text/plain": [
       "0.9595652173913043"
      ]
     },
     "execution_count": 30,
     "metadata": {},
     "output_type": "execute_result"
    },
    {
     "data": {
      "text/plain": [
       "0.806"
      ]
     },
     "execution_count": 30,
     "metadata": {},
     "output_type": "execute_result"
    }
   ],
   "source": [
    "nltk.classify.accuracy(classifier1v2, training_features)\n",
    "nltk.classify.accuracy(classifier1v2, dev_test_features)\n",
    "\n",
    "nltk.classify.accuracy(classifier2v2, training_features2)\n",
    "nltk.classify.accuracy(classifier2v2, dev_test_features2)\n",
    "\n",
    "nltk.classify.accuracy(classifier3, training_features3)\n",
    "nltk.classify.accuracy(classifier3, dev_test_features3)"
   ]
  },
  {
   "cell_type": "markdown",
   "metadata": {},
   "source": [
    "Looks like this feature causes performance to be at most slightly better, and possibly even a bit worse.\n",
    "\n",
    "And I can't think of any other features that would be good to add, or that should be removed from the existing set.\n",
    "\n",
    "So, let's go back to the classifier including last two letters, but excluding first two letters.\n",
    "\n",
    "Then, train using a completely new training set.\n",
    "\n",
    "Finally, report accuracy on the final test data."
   ]
  },
  {
   "cell_type": "code",
   "execution_count": 36,
   "metadata": {},
   "outputs": [],
   "source": [
    "# feature generator\n",
    "def gender_features(name):\n",
    "    # length of name\n",
    "    #length = len(name)\n",
    "    \n",
    "    # last letter, first letter, vowel last/first letter\n",
    "    first_letter = name[0]\n",
    "    vowel_first_letter = first_letter in 'aeiou'\n",
    "    last_letter = name[-1]\n",
    "    last_two_letters = name[-2:]\n",
    "    vowel_last_letter = last_letter in 'aeiou'\n",
    "    \n",
    "    # vowel/consonants + counts\n",
    "    #vowels = name.replace(r'[^aeiou]', '')\n",
    "    vowels = tuple([l for l in name if l in ['a','e','i','o','u']])\n",
    "    #vowel_count = len(vowels)\n",
    "    #consonants = name.replace(r'[aeiou]', '')\n",
    "    consonants = tuple([l for l in name if l not in ['a','e','i','o','u']])\n",
    "    #consonant_count = len(consonants)\n",
    "    \n",
    "    # bigrams/trigrams\n",
    "    bigrams = tuple(ngrams(name, 2)) #This used to be list instead of tuple, but got an error about them being unhashable. Solved by using tuple instead.\n",
    "    trigrams = tuple(ngrams(name, 3))\n",
    "    \n",
    "    # syllables\n",
    "    syllables = len(SSP.tokenize(name))\n",
    "    \n",
    "    return {\n",
    "        #'length': length,\n",
    "        'first_letter': first_letter,\n",
    "        'vowel_first_letter': vowel_first_letter,\n",
    "        'last_letter': last_letter,\n",
    "        'last_two_letters': last_two_letters,\n",
    "        'vowel_last_letter': vowel_last_letter,\n",
    "        'vowels': vowels,\n",
    "        #'vowel_count': vowel_count,\n",
    "        'consonants': consonants,\n",
    "        #'consonant_count': consonant_count,\n",
    "        'bigrams': bigrams,\n",
    "        'trigrams': trigrams,\n",
    "        'syllables': syllables\n",
    "    }"
   ]
  },
  {
   "cell_type": "code",
   "execution_count": 37,
   "metadata": {},
   "outputs": [],
   "source": [
    "random.shuffle(training_and_dev_test)\n",
    "training4 = training_and_dev_test[500:]\n",
    "training_features4 = [(gender_features(name), gender) for name, gender in training4]"
   ]
  },
  {
   "cell_type": "code",
   "execution_count": 38,
   "metadata": {},
   "outputs": [
    {
     "name": "stdout",
     "output_type": "stream",
     "text": [
      "  ==> Training (100 iterations)\n"
     ]
    }
   ],
   "source": [
    "final_classifier = nltk.MaxentClassifier.train(training_features4,trace=1)"
   ]
  },
  {
   "cell_type": "code",
   "execution_count": 39,
   "metadata": {},
   "outputs": [
    {
     "data": {
      "text/plain": [
       "0.786"
      ]
     },
     "execution_count": 39,
     "metadata": {},
     "output_type": "execute_result"
    }
   ],
   "source": [
    "final_test_features = [(gender_features(name), gender) for name, gender in final_test]\n",
    "nltk.classify.accuracy(final_classifier, final_test_features)"
   ]
  },
  {
   "cell_type": "code",
   "execution_count": null,
   "metadata": {},
   "outputs": [],
   "source": []
  }
 ],
 "metadata": {
  "kernelspec": {
   "display_name": "Python 3",
   "language": "python",
   "name": "python3"
  },
  "language_info": {
   "codemirror_mode": {
    "name": "ipython",
    "version": 3
   },
   "file_extension": ".py",
   "mimetype": "text/x-python",
   "name": "python",
   "nbconvert_exporter": "python",
   "pygments_lexer": "ipython3",
   "version": "3.7.1"
  }
 },
 "nbformat": 4,
 "nbformat_minor": 2
}
