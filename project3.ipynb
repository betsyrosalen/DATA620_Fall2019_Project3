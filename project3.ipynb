{
 "cells": [
  {
   "cell_type": "markdown",
   "metadata": {
    "collapsed": true,
    "pycharm": {
     "name": "#%% md\n"
    }
   },
   "source": [
    "# Data 620 - Project 3\n",
    "Baron Curtin, Heather Geiger, Mikhail Groysman, Betsy Rosalen \n",
    "\n",
    "Using any of the three classifiers described in chapter 6 of Natural Language Processing with Python,\n",
    "and any features you can think of, build the best name gender classifier you can.\n",
    "\n",
    "Begin by splitting the Names Corpus into three subsets: 500 words for the test set, 500 words for the devtest set, and the remaining 6900 words for the training set. Then, starting with the example name gender\n",
    "classifier, make incremental improvements. Use the dev-test set to check your progress. Once you are\n",
    "satisfied with your classifier, check its final performance on the test set.\n",
    "\n",
    "How does the performance on the test set compare to the performance on the dev-test set? Is this what\n",
    "you'd expect? "
   ]
  },
  {
   "cell_type": "code",
   "execution_count": 1,
   "outputs": [],
   "source": [
    "# library imports\n",
    "import random\n",
    "from collections import Counter\n",
    "from nltk import download\n",
    "from nltk.corpus import names\n",
    "from nltk.util import ngrams\n",
    "from nltk import NaiveBayesClassifier\n",
    "import matplotlib.pyplot as plt\n",
    "import seaborn as sns\n",
    "\n",
    "import pandas as pd\n",
    "import numpy as np\n",
    "\n",
    "# jupyter setup\n",
    "from IPython.core.interactiveshell import InteractiveShell\n",
    "InteractiveShell.ast_node_interactivity = \"all\"\n"
   ],
   "metadata": {
    "collapsed": false,
    "pycharm": {
     "name": "#%%\n",
     "is_executing": false
    }
   }
  },
  {
   "cell_type": "markdown",
   "source": [
    "## Data Loading/Preparation\n",
    "In the following cells, we will be loading the corpus into memory, labelling all of the names, and then randomizing the\n",
    "list of names for later use. Randomizing the names will ensure that our training/test sets will contain both genders from \n",
    "which we should be able to create numerous features from."
   ],
   "metadata": {
    "collapsed": false,
    "pycharm": {
     "name": "#%% md\n"
    }
   }
  },
  {
   "cell_type": "code",
   "execution_count": 2,
   "outputs": [],
   "source": [
    "# read in names from the files\n",
    "# label each name with corresponding gender\n",
    "# names to be lowercase for easy recognition \n",
    "males = [(name.lower(), 'male') for name in names.words('male.txt')]\n",
    "females = [(name.lower(), 'female') for name in names.words('female.txt')]\n",
    "\n",
    "# combine lists of names\n",
    "all_names = males + females\n",
    "\n",
    "# randomize the list\n",
    "random.shuffle(all_names)"
   ],
   "metadata": {
    "collapsed": false,
    "pycharm": {
     "name": "#%%\n",
     "is_executing": false
    }
   }
  },
  {
   "cell_type": "code",
   "execution_count": 20,
   "outputs": [
    {
     "data": {
      "text/plain": "6900"
     },
     "metadata": {},
     "output_type": "execute_result",
     "execution_count": 20
    }
   ],
   "source": [
    "# create each set of data\n",
    "train = all_names[:500]\n",
    "dev_test = all_names[500:1000]\n",
    "test = all_names[-6900:]"
   ],
   "metadata": {
    "collapsed": false,
    "pycharm": {
     "name": "#%%\n",
     "is_executing": false
    }
   }
  },
  {
   "cell_type": "markdown",
   "source": [
    "## Data Exploration\n",
    "Lets get a better feel for how our data is composed. Exploration will lead to ways in which we can come up with features."
   ],
   "metadata": {
    "collapsed": false,
    "pycharm": {
     "name": "#%% md\n"
    }
   }
  },
  {
   "cell_type": "code",
   "execution_count": 3,
   "outputs": [
    {
     "data": {
      "text/plain": "       name  gender\n0     quint    male\n1  leonardo    male\n2    thelma  female\n3   emelita  female\n4  cordelia  female",
      "text/html": "<div>\n<style scoped>\n    .dataframe tbody tr th:only-of-type {\n        vertical-align: middle;\n    }\n\n    .dataframe tbody tr th {\n        vertical-align: top;\n    }\n\n    .dataframe thead th {\n        text-align: right;\n    }\n</style>\n<table border=\"1\" class=\"dataframe\">\n  <thead>\n    <tr style=\"text-align: right;\">\n      <th></th>\n      <th>name</th>\n      <th>gender</th>\n    </tr>\n  </thead>\n  <tbody>\n    <tr>\n      <td>0</td>\n      <td>quint</td>\n      <td>male</td>\n    </tr>\n    <tr>\n      <td>1</td>\n      <td>leonardo</td>\n      <td>male</td>\n    </tr>\n    <tr>\n      <td>2</td>\n      <td>thelma</td>\n      <td>female</td>\n    </tr>\n    <tr>\n      <td>3</td>\n      <td>emelita</td>\n      <td>female</td>\n    </tr>\n    <tr>\n      <td>4</td>\n      <td>cordelia</td>\n      <td>female</td>\n    </tr>\n  </tbody>\n</table>\n</div>"
     },
     "metadata": {},
     "output_type": "execute_result",
     "execution_count": 3
    }
   ],
   "source": [
    "# create dataframe\n",
    "data = pd.DataFrame.from_dict(dict(all_names), orient='index', columns=['gender']).reset_index()\n",
    "data.columns = ['name', 'gender']\n",
    "data.head()"
   ],
   "metadata": {
    "collapsed": false,
    "pycharm": {
     "name": "#%%\n",
     "is_executing": false
    }
   }
  },
  {
   "cell_type": "code",
   "execution_count": 4,
   "outputs": [
    {
     "data": {
      "text/plain": "       name  gender  length last_letter first_letter  vowel_last_letter  \\\n0     quint    male       5           t            q              False   \n1  leonardo    male       8           o            l               True   \n2    thelma  female       6           a            t               True   \n3   emelita  female       7           a            e               True   \n4  cordelia  female       8           a            c               True   \n\n   vowel_first_letter vowels  vowel_count  \n0               False     ui            2  \n1               False   eoao            4  \n2               False     ea            2  \n3                True   eeia            4  \n4               False   oeia            4  ",
      "text/html": "<div>\n<style scoped>\n    .dataframe tbody tr th:only-of-type {\n        vertical-align: middle;\n    }\n\n    .dataframe tbody tr th {\n        vertical-align: top;\n    }\n\n    .dataframe thead th {\n        text-align: right;\n    }\n</style>\n<table border=\"1\" class=\"dataframe\">\n  <thead>\n    <tr style=\"text-align: right;\">\n      <th></th>\n      <th>name</th>\n      <th>gender</th>\n      <th>length</th>\n      <th>last_letter</th>\n      <th>first_letter</th>\n      <th>vowel_last_letter</th>\n      <th>vowel_first_letter</th>\n      <th>vowels</th>\n      <th>vowel_count</th>\n    </tr>\n  </thead>\n  <tbody>\n    <tr>\n      <td>0</td>\n      <td>quint</td>\n      <td>male</td>\n      <td>5</td>\n      <td>t</td>\n      <td>q</td>\n      <td>False</td>\n      <td>False</td>\n      <td>ui</td>\n      <td>2</td>\n    </tr>\n    <tr>\n      <td>1</td>\n      <td>leonardo</td>\n      <td>male</td>\n      <td>8</td>\n      <td>o</td>\n      <td>l</td>\n      <td>True</td>\n      <td>False</td>\n      <td>eoao</td>\n      <td>4</td>\n    </tr>\n    <tr>\n      <td>2</td>\n      <td>thelma</td>\n      <td>female</td>\n      <td>6</td>\n      <td>a</td>\n      <td>t</td>\n      <td>True</td>\n      <td>False</td>\n      <td>ea</td>\n      <td>2</td>\n    </tr>\n    <tr>\n      <td>3</td>\n      <td>emelita</td>\n      <td>female</td>\n      <td>7</td>\n      <td>a</td>\n      <td>e</td>\n      <td>True</td>\n      <td>True</td>\n      <td>eeia</td>\n      <td>4</td>\n    </tr>\n    <tr>\n      <td>4</td>\n      <td>cordelia</td>\n      <td>female</td>\n      <td>8</td>\n      <td>a</td>\n      <td>c</td>\n      <td>True</td>\n      <td>False</td>\n      <td>oeia</td>\n      <td>4</td>\n    </tr>\n  </tbody>\n</table>\n</div>"
     },
     "metadata": {},
     "output_type": "execute_result",
     "execution_count": 4
    }
   ],
   "source": [
    "# create various feature columns for exploration\n",
    "data['length'] = data['name'].str.len()\n",
    "data['last_letter'] = data['name'].str[-1]\n",
    "data['first_letter'] = data['name'].str[0]\n",
    "data['vowel_last_letter'] = data['last_letter'].isin([*'aeiou'])\n",
    "data['vowel_first_letter'] = data['first_letter'].isin([*'aeiou'])\n",
    "data['vowels'] = data['name'].str.replace(r'[^aeiou]', '')\n",
    "data['vowel_count'] = data['vowels'].str.len()\n",
    "\n",
    "# preview data\n",
    "data.head()"
   ],
   "metadata": {
    "collapsed": false,
    "pycharm": {
     "name": "#%%\n",
     "is_executing": false
    }
   }
  },
  {
   "cell_type": "code",
   "execution_count": 5,
   "outputs": [
    {
     "data": {
      "text/plain": "          length  vowel_last_letter  vowel_first_letter  vowel_count\ngender                                                              \nfemale  6.147083           0.723417            0.173149     2.673562\nmale    5.944566           0.234136            0.157185     2.204595",
      "text/html": "<div>\n<style scoped>\n    .dataframe tbody tr th:only-of-type {\n        vertical-align: middle;\n    }\n\n    .dataframe tbody tr th {\n        vertical-align: top;\n    }\n\n    .dataframe thead th {\n        text-align: right;\n    }\n</style>\n<table border=\"1\" class=\"dataframe\">\n  <thead>\n    <tr style=\"text-align: right;\">\n      <th></th>\n      <th>length</th>\n      <th>vowel_last_letter</th>\n      <th>vowel_first_letter</th>\n      <th>vowel_count</th>\n    </tr>\n    <tr>\n      <th>gender</th>\n      <th></th>\n      <th></th>\n      <th></th>\n      <th></th>\n    </tr>\n  </thead>\n  <tbody>\n    <tr>\n      <td>female</td>\n      <td>6.147083</td>\n      <td>0.723417</td>\n      <td>0.173149</td>\n      <td>2.673562</td>\n    </tr>\n    <tr>\n      <td>male</td>\n      <td>5.944566</td>\n      <td>0.234136</td>\n      <td>0.157185</td>\n      <td>2.204595</td>\n    </tr>\n  </tbody>\n</table>\n</div>"
     },
     "metadata": {},
     "output_type": "execute_result",
     "execution_count": 5
    }
   ],
   "source": [
    "# use our created variables to generate some summary statistics\n",
    "data.groupby('gender').mean()"
   ],
   "metadata": {
    "collapsed": false,
    "pycharm": {
     "name": "#%%\n",
     "is_executing": false
    }
   }
  },
  {
   "cell_type": "markdown",
   "source": [
    "Based on the above chart, we see that females have a higher name length on average, higher vowel counts, and the last letter is 72% of the time a vowel.\n",
    "These appear to be good predictors. We need to visual confirm what we see numerically"
   ],
   "metadata": {
    "collapsed": false,
    "pycharm": {
     "name": "#%% md\n"
    }
   }
  },
  {
   "cell_type": "code",
   "execution_count": 11,
   "outputs": [
    {
     "data": {
      "text/plain": "<matplotlib.axes._subplots.AxesSubplot at 0x1a294b1190>"
     },
     "metadata": {},
     "output_type": "execute_result",
     "execution_count": 11
    },
    {
     "data": {
      "text/plain": "<matplotlib.axes._subplots.AxesSubplot at 0x1a29b2c790>"
     },
     "metadata": {},
     "output_type": "execute_result",
     "execution_count": 11
    },
    {
     "data": {
      "text/plain": "<matplotlib.axes._subplots.AxesSubplot at 0x1a29b41a10>"
     },
     "metadata": {},
     "output_type": "execute_result",
     "execution_count": 11
    },
    {
     "data": {
      "text/plain": "<matplotlib.axes._subplots.AxesSubplot at 0x1a29901250>"
     },
     "metadata": {},
     "output_type": "execute_result",
     "execution_count": 11
    },
    {
     "data": {
      "text/plain": "<Figure size 1440x720 with 4 Axes>",
      "image/png": "[encoded data removed]"
     },
     "metadata": {
      "needs_background": "light"
     },
     "output_type": "display_data"
    }
   ],
   "source": [
    "# categorical/numerical columns\n",
    "categorical_cols = data.loc[:, data.columns != 'name'].select_dtypes(include='object').columns\n",
    "numerical_cols = data.select_dtypes(include=np.number).columns\n",
    "\n",
    "fig, ax = plt.subplots(1, 4, figsize=(20, 10))\n",
    "\n",
    "for var, subplot in zip(categorical_cols, ax.flatten()):\n",
    "    sns.countplot(x=var, data=data, ax=subplot)\n"
   ],
   "metadata": {
    "collapsed": false,
    "pycharm": {
     "name": "#%%\n",
     "is_executing": false
    }
   }
  },
  {
   "cell_type": "markdown",
   "source": [
    "## Feature Creation\n",
    "Features are the most important part of what goes into a machine learning model. For that reason, it is critically important\n",
    "to try to come up with features that make the most sense in identifying gender differences in names"
   ],
   "metadata": {
    "collapsed": false,
    "pycharm": {
     "name": "#%% md\n"
    }
   }
  },
  {
   "cell_type": "code",
   "execution_count": 7,
   "outputs": [],
   "source": [
    "# feature generator\n",
    "def gender_features(name):\n",
    "    # last letter in name\n",
    "    last_letter = name[-1]\n",
    "    \n",
    "    # vowel last letter\n",
    "    vowel_last_letter = last_letter in 'aeiou'\n",
    "    \n",
    "    # first letter\n",
    "    first_letter = name[0]\n",
    "    \n",
    "    # vowel first letter\n",
    "    vowel_first_letter = first_letter in 'aeiou'\n",
    "    \n",
    "    # tri-grams\n",
    "    trigrams = ngrams(name, 3)\n",
    "    \n",
    "    # vowel count\n",
    "    vowel_count = len(name.replace(r'[^aeiou]', ''))\n",
    "    \n",
    "    # return dictionary\n",
    "    return {\n",
    "        'last_letter': last_letter,\n",
    "        'vowel_last_letter': vowel_last_letter,\n",
    "        'first_letter': first_letter,\n",
    "        'vowel_first_letter': vowel_first_letter,\n",
    "        'trigrams': trigrams,\n",
    "        'vowel_count': vowel_count\n",
    "    }"
   ],
   "metadata": {
    "collapsed": false,
    "pycharm": {
     "name": "#%%\n",
     "is_executing": false
    }
   }
  }
 ],
 "metadata": {
  "kernelspec": {
   "display_name": "Python 3",
   "language": "python",
   "name": "python3"
  },
  "language_info": {
   "codemirror_mode": {
    "name": "ipython",
    "version": 2
   },
   "file_extension": ".py",
   "mimetype": "text/x-python",
   "name": "python",
   "nbconvert_exporter": "python",
   "pygments_lexer": "ipython2",
   "version": "2.7.6"
  },
  "pycharm": {
   "stem_cell": {
    "cell_type": "raw",
    "source": [],
    "metadata": {
     "collapsed": false
    }
   }
  }
 },
 "nbformat": 4,
 "nbformat_minor": 0
}