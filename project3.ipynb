{
 "cells": [
  {
   "cell_type": "markdown",
   "metadata": {
    "collapsed": true,
    "pycharm": {
     "name": "#%% md\n"
    }
   },
   "source": [
    "# Data 620 - Project 3\n",
    "Baron Curtin, Heather Geiger, Mikhail Groysman, Betsy Rosalen \n",
    "\n",
    "Using any of the three classifiers described in chapter 6 of Natural Language Processing with Python,\n",
    "and any features you can think of, build the best name gender classifier you can.\n",
    "\n",
    "Begin by splitting the Names Corpus into three subsets: 500 words for the test set, 500 words for the devtest set, and the remaining 6900 words for the training set. Then, starting with the example name gender\n",
    "classifier, make incremental improvements. Use the dev-test set to check your progress. Once you are\n",
    "satisfied with your classifier, check its final performance on the test set.\n",
    "\n",
    "How does the performance on the test set compare to the performance on the dev-test set? Is this what\n",
    "you'd expect? "
   ]
  },
  {
   "cell_type": "code",
   "execution_count": 53,
   "metadata": {
    "pycharm": {
     "is_executing": false,
     "name": "#%%\n"
    }
   },
   "outputs": [],
   "source": [
    "# library imports\n",
    "import random\n",
    "from collections import Counter\n",
    "from nltk import download\n",
    "from nltk.corpus import names\n",
    "from nltk.util import ngrams\n",
    "from nltk.tokenize.sonority_sequencing import SyllableTokenizer\n",
    "from nltk import NaiveBayesClassifier\n",
    "import matplotlib.pyplot as plt\n",
    "import seaborn as sns\n",
    "\n",
    "import pandas as pd\n",
    "import numpy as np\n",
    "\n",
    "# jupyter setup\n",
    "from IPython.core.interactiveshell import InteractiveShell\n",
    "InteractiveShell.ast_node_interactivity = \"all\"\n"
   ]
  },
  {
   "cell_type": "markdown",
   "metadata": {
    "pycharm": {
     "name": "#%% md\n"
    }
   },
   "source": [
    "## Data Loading/Preparation\n",
    "In the following cells, we will be loading the corpus into memory, labelling all of the names, and then randomizing the\n",
    "list of names for later use. Randomizing the names will ensure that our training/test sets will contain both genders from \n",
    "which we should be able to create numerous features from."
   ]
  },
  {
   "cell_type": "code",
   "execution_count": 54,
   "metadata": {
    "pycharm": {
     "is_executing": false,
     "name": "#%%\n"
    }
   },
   "outputs": [
    {
     "name": "stderr",
     "output_type": "stream",
     "text": [
      "[nltk_data] Downloading package names to\n",
      "[nltk_data]     /Users/betsyrosalen/nltk_data...\n",
      "[nltk_data]   Package names is already up-to-date!\n"
     ]
    },
    {
     "data": {
      "text/plain": [
       "True"
      ]
     },
     "execution_count": 54,
     "metadata": {},
     "output_type": "execute_result"
    }
   ],
   "source": [
    "# read in names from the files\n",
    "# label each name with corresponding gender\n",
    "# names to be lowercase for easy recognition \n",
    "download('names')\n",
    "males = [(name.lower().strip(), 'male') for name in names.words('male.txt')]\n",
    "females = [(name.lower().strip(), 'female') for name in names.words('female.txt')]\n",
    "\n",
    "# combine lists of names\n",
    "all_names = males + females\n",
    "\n",
    "# randomize the list\n",
    "random.shuffle(all_names)"
   ]
  },
  {
   "cell_type": "markdown",
   "metadata": {},
   "source": [
    "## Feature Creation\n",
    "Features are the most important part of what goes into a machine learning model. For that reason, it is critically important\n",
    "to try to come up with features that make the most sense in identifying gender differences in names. To make creation and analysis easier,\n",
    "we will put our data in a Pandas dataframe."
   ]
  },
  {
   "cell_type": "code",
   "execution_count": 55,
   "metadata": {
    "pycharm": {
     "is_executing": false,
     "name": "#%%\n"
    }
   },
   "outputs": [
    {
     "data": {
      "text/html": [
       "<div>\n",
       "<style scoped>\n",
       "    .dataframe tbody tr th:only-of-type {\n",
       "        vertical-align: middle;\n",
       "    }\n",
       "\n",
       "    .dataframe tbody tr th {\n",
       "        vertical-align: top;\n",
       "    }\n",
       "\n",
       "    .dataframe thead th {\n",
       "        text-align: right;\n",
       "    }\n",
       "</style>\n",
       "<table border=\"1\" class=\"dataframe\">\n",
       "  <thead>\n",
       "    <tr style=\"text-align: right;\">\n",
       "      <th></th>\n",
       "      <th>name</th>\n",
       "      <th>gender</th>\n",
       "    </tr>\n",
       "  </thead>\n",
       "  <tbody>\n",
       "    <tr>\n",
       "      <td>0</td>\n",
       "      <td>dorita</td>\n",
       "      <td>female</td>\n",
       "    </tr>\n",
       "    <tr>\n",
       "      <td>1</td>\n",
       "      <td>desirae</td>\n",
       "      <td>female</td>\n",
       "    </tr>\n",
       "    <tr>\n",
       "      <td>2</td>\n",
       "      <td>vena</td>\n",
       "      <td>female</td>\n",
       "    </tr>\n",
       "    <tr>\n",
       "      <td>3</td>\n",
       "      <td>bette</td>\n",
       "      <td>female</td>\n",
       "    </tr>\n",
       "    <tr>\n",
       "      <td>4</td>\n",
       "      <td>jule</td>\n",
       "      <td>male</td>\n",
       "    </tr>\n",
       "  </tbody>\n",
       "</table>\n",
       "</div>"
      ],
      "text/plain": [
       "      name  gender\n",
       "0   dorita  female\n",
       "1  desirae  female\n",
       "2     vena  female\n",
       "3    bette  female\n",
       "4     jule    male"
      ]
     },
     "execution_count": 55,
     "metadata": {},
     "output_type": "execute_result"
    }
   ],
   "source": [
    "# create dataframe\n",
    "data = pd.DataFrame.from_dict(dict(all_names), orient='index', columns=['gender']).reset_index()\n",
    "data.columns = ['name', 'gender']\n",
    "data.head()"
   ]
  },
  {
   "cell_type": "code",
   "execution_count": 56,
   "metadata": {
    "pycharm": {
     "is_executing": false,
     "name": "#%%\n"
    }
   },
   "outputs": [
    {
     "name": "stderr",
     "output_type": "stream",
     "text": [
      "/Users/betsyrosalen/anaconda3/lib/python3.7/site-packages/nltk/tokenize/sonority_sequencing.py:102: UserWarning: Character not defined in sonority_hierarchy, assigning as vowel: ' '\n",
      "  \" assigning as vowel: '{}'\".format(c))\n"
     ]
    },
    {
     "data": {
      "text/html": [
       "<div>\n",
       "<style scoped>\n",
       "    .dataframe tbody tr th:only-of-type {\n",
       "        vertical-align: middle;\n",
       "    }\n",
       "\n",
       "    .dataframe tbody tr th {\n",
       "        vertical-align: top;\n",
       "    }\n",
       "\n",
       "    .dataframe thead th {\n",
       "        text-align: right;\n",
       "    }\n",
       "</style>\n",
       "<table border=\"1\" class=\"dataframe\">\n",
       "  <thead>\n",
       "    <tr style=\"text-align: right;\">\n",
       "      <th></th>\n",
       "      <th>name</th>\n",
       "      <th>gender</th>\n",
       "      <th>length</th>\n",
       "      <th>last_letter</th>\n",
       "      <th>first_letter</th>\n",
       "      <th>vowel_last_letter</th>\n",
       "      <th>vowel_first_letter</th>\n",
       "      <th>vowels</th>\n",
       "      <th>consonants</th>\n",
       "      <th>vowel_count</th>\n",
       "      <th>consonant_count</th>\n",
       "      <th>bigrams</th>\n",
       "      <th>trigrams</th>\n",
       "      <th>syllables</th>\n",
       "    </tr>\n",
       "  </thead>\n",
       "  <tbody>\n",
       "    <tr>\n",
       "      <td>0</td>\n",
       "      <td>dorita</td>\n",
       "      <td>female</td>\n",
       "      <td>6</td>\n",
       "      <td>a</td>\n",
       "      <td>d</td>\n",
       "      <td>True</td>\n",
       "      <td>False</td>\n",
       "      <td>oia</td>\n",
       "      <td>drt</td>\n",
       "      <td>3</td>\n",
       "      <td>3</td>\n",
       "      <td>[(d, o), (o, r), (r, i), (i, t), (t, a)]</td>\n",
       "      <td>[(d, o, r), (o, r, i), (r, i, t), (i, t, a)]</td>\n",
       "      <td>3</td>\n",
       "    </tr>\n",
       "    <tr>\n",
       "      <td>1</td>\n",
       "      <td>desirae</td>\n",
       "      <td>female</td>\n",
       "      <td>7</td>\n",
       "      <td>e</td>\n",
       "      <td>d</td>\n",
       "      <td>True</td>\n",
       "      <td>False</td>\n",
       "      <td>eiae</td>\n",
       "      <td>dsr</td>\n",
       "      <td>4</td>\n",
       "      <td>3</td>\n",
       "      <td>[(d, e), (e, s), (s, i), (i, r), (r, a), (a, e)]</td>\n",
       "      <td>[(d, e, s), (e, s, i), (s, i, r), (i, r, a), (...</td>\n",
       "      <td>3</td>\n",
       "    </tr>\n",
       "    <tr>\n",
       "      <td>2</td>\n",
       "      <td>vena</td>\n",
       "      <td>female</td>\n",
       "      <td>4</td>\n",
       "      <td>a</td>\n",
       "      <td>v</td>\n",
       "      <td>True</td>\n",
       "      <td>False</td>\n",
       "      <td>ea</td>\n",
       "      <td>vn</td>\n",
       "      <td>2</td>\n",
       "      <td>2</td>\n",
       "      <td>[(v, e), (e, n), (n, a)]</td>\n",
       "      <td>[(v, e, n), (e, n, a)]</td>\n",
       "      <td>2</td>\n",
       "    </tr>\n",
       "    <tr>\n",
       "      <td>3</td>\n",
       "      <td>bette</td>\n",
       "      <td>female</td>\n",
       "      <td>5</td>\n",
       "      <td>e</td>\n",
       "      <td>b</td>\n",
       "      <td>True</td>\n",
       "      <td>False</td>\n",
       "      <td>ee</td>\n",
       "      <td>btt</td>\n",
       "      <td>2</td>\n",
       "      <td>3</td>\n",
       "      <td>[(b, e), (e, t), (t, t), (t, e)]</td>\n",
       "      <td>[(b, e, t), (e, t, t), (t, t, e)]</td>\n",
       "      <td>2</td>\n",
       "    </tr>\n",
       "    <tr>\n",
       "      <td>4</td>\n",
       "      <td>jule</td>\n",
       "      <td>male</td>\n",
       "      <td>4</td>\n",
       "      <td>e</td>\n",
       "      <td>j</td>\n",
       "      <td>True</td>\n",
       "      <td>False</td>\n",
       "      <td>ue</td>\n",
       "      <td>jl</td>\n",
       "      <td>2</td>\n",
       "      <td>2</td>\n",
       "      <td>[(j, u), (u, l), (l, e)]</td>\n",
       "      <td>[(j, u, l), (u, l, e)]</td>\n",
       "      <td>2</td>\n",
       "    </tr>\n",
       "  </tbody>\n",
       "</table>\n",
       "</div>"
      ],
      "text/plain": [
       "      name  gender  length last_letter first_letter  vowel_last_letter  \\\n",
       "0   dorita  female       6           a            d               True   \n",
       "1  desirae  female       7           e            d               True   \n",
       "2     vena  female       4           a            v               True   \n",
       "3    bette  female       5           e            b               True   \n",
       "4     jule    male       4           e            j               True   \n",
       "\n",
       "   vowel_first_letter vowels consonants  vowel_count  consonant_count  \\\n",
       "0               False    oia        drt            3                3   \n",
       "1               False   eiae        dsr            4                3   \n",
       "2               False     ea         vn            2                2   \n",
       "3               False     ee        btt            2                3   \n",
       "4               False     ue         jl            2                2   \n",
       "\n",
       "                                            bigrams  \\\n",
       "0          [(d, o), (o, r), (r, i), (i, t), (t, a)]   \n",
       "1  [(d, e), (e, s), (s, i), (i, r), (r, a), (a, e)]   \n",
       "2                          [(v, e), (e, n), (n, a)]   \n",
       "3                  [(b, e), (e, t), (t, t), (t, e)]   \n",
       "4                          [(j, u), (u, l), (l, e)]   \n",
       "\n",
       "                                            trigrams  syllables  \n",
       "0       [(d, o, r), (o, r, i), (r, i, t), (i, t, a)]          3  \n",
       "1  [(d, e, s), (e, s, i), (s, i, r), (i, r, a), (...          3  \n",
       "2                             [(v, e, n), (e, n, a)]          2  \n",
       "3                  [(b, e, t), (e, t, t), (t, t, e)]          2  \n",
       "4                             [(j, u, l), (u, l, e)]          2  "
      ]
     },
     "execution_count": 56,
     "metadata": {},
     "output_type": "execute_result"
    }
   ],
   "source": [
    "# instatiate syllable tokenize\n",
    "SSP = SyllableTokenizer()\n",
    "\n",
    "# create various feature columns for exploration\n",
    "data['length'] = data['name'].str.len()\n",
    "data['last_letter'] = data['name'].str[-1]\n",
    "data['first_letter'] = data['name'].str[0]\n",
    "data['vowel_last_letter'] = data['last_letter'].isin([*'aeiou'])\n",
    "data['vowel_first_letter'] = data['first_letter'].isin([*'aeiou'])\n",
    "data['vowels'] = data['name'].str.replace(r'[^aeiou]', '')\n",
    "data['consonants'] = data['name'].str.replace(r'[aeiou]', '')\n",
    "data['vowel_count'] = data['vowels'].str.len()\n",
    "data['consonant_count'] = data['consonants'].str.len()\n",
    "data['bigrams'] = data['name'].apply(lambda x: list(ngrams(x, 2)))\n",
    "data['trigrams'] = data['name'].apply(lambda x: list(ngrams(x, 3)))\n",
    "data['syllables'] = data['name'].apply(lambda x: len(SSP.tokenize(x)))\n",
    "\n",
    "# preview data\n",
    "data.head()"
   ]
  },
  {
   "cell_type": "code",
   "execution_count": 57,
   "metadata": {
    "pycharm": {
     "is_executing": false,
     "name": "#%%\n"
    }
   },
   "outputs": [
    {
     "data": {
      "text/html": [
       "<div>\n",
       "<style scoped>\n",
       "    .dataframe tbody tr th:only-of-type {\n",
       "        vertical-align: middle;\n",
       "    }\n",
       "\n",
       "    .dataframe tbody tr th {\n",
       "        vertical-align: top;\n",
       "    }\n",
       "\n",
       "    .dataframe thead th {\n",
       "        text-align: right;\n",
       "    }\n",
       "</style>\n",
       "<table border=\"1\" class=\"dataframe\">\n",
       "  <thead>\n",
       "    <tr style=\"text-align: right;\">\n",
       "      <th></th>\n",
       "      <th>bigrams</th>\n",
       "      <th>trigrams</th>\n",
       "      <th>bigrams_counter</th>\n",
       "      <th>trigrams_counter</th>\n",
       "    </tr>\n",
       "    <tr>\n",
       "      <th>gender</th>\n",
       "      <th></th>\n",
       "      <th></th>\n",
       "      <th></th>\n",
       "      <th></th>\n",
       "    </tr>\n",
       "  </thead>\n",
       "  <tbody>\n",
       "    <tr>\n",
       "      <td>female</td>\n",
       "      <td>[(d, o), (o, r), (r, i), (i, t), (t, a), (d, e...</td>\n",
       "      <td>[(d, o, r), (o, r, i), (r, i, t), (i, t, a), (...</td>\n",
       "      <td>{('d', 'o'): 105, ('o', 'r'): 339, ('r', 'i'):...</td>\n",
       "      <td>{('d', 'o', 'r'): 57, ('o', 'r', 'i'): 73, ('r...</td>\n",
       "    </tr>\n",
       "    <tr>\n",
       "      <td>male</td>\n",
       "      <td>[(j, u), (u, l), (l, e), (e, d), (d, o), (o, u...</td>\n",
       "      <td>[(j, u, l), (u, l, e), (e, d, o), (d, o, u), (...</td>\n",
       "      <td>{('j', 'u'): 17, ('u', 'l'): 40, ('l', 'e'): 1...</td>\n",
       "      <td>{('j', 'u', 'l'): 5, ('u', 'l', 'e'): 6, ('e',...</td>\n",
       "    </tr>\n",
       "  </tbody>\n",
       "</table>\n",
       "</div>"
      ],
      "text/plain": [
       "                                                  bigrams  \\\n",
       "gender                                                      \n",
       "female  [(d, o), (o, r), (r, i), (i, t), (t, a), (d, e...   \n",
       "male    [(j, u), (u, l), (l, e), (e, d), (d, o), (o, u...   \n",
       "\n",
       "                                                 trigrams  \\\n",
       "gender                                                      \n",
       "female  [(d, o, r), (o, r, i), (r, i, t), (i, t, a), (...   \n",
       "male    [(j, u, l), (u, l, e), (e, d, o), (d, o, u), (...   \n",
       "\n",
       "                                          bigrams_counter  \\\n",
       "gender                                                      \n",
       "female  {('d', 'o'): 105, ('o', 'r'): 339, ('r', 'i'):...   \n",
       "male    {('j', 'u'): 17, ('u', 'l'): 40, ('l', 'e'): 1...   \n",
       "\n",
       "                                         trigrams_counter  \n",
       "gender                                                     \n",
       "female  {('d', 'o', 'r'): 57, ('o', 'r', 'i'): 73, ('r...  \n",
       "male    {('j', 'u', 'l'): 5, ('u', 'l', 'e'): 6, ('e',...  "
      ]
     },
     "execution_count": 57,
     "metadata": {},
     "output_type": "execute_result"
    }
   ],
   "source": [
    "# lets analyze our bigrams and trigrams columns to get the most common ngrams by gender\n",
    "ngrams_gender = data.groupby('gender')[['bigrams', 'trigrams']].sum()\n",
    "ngrams_gender['bigrams_counter'] = ngrams_gender['bigrams'].apply(lambda x: Counter(x))\n",
    "ngrams_gender['trigrams_counter'] = ngrams_gender['trigrams'].apply(lambda x: Counter(x))\n",
    "ngrams_gender"
   ]
  },
  {
   "cell_type": "markdown",
   "metadata": {
    "pycharm": {
     "name": "#%% md\n"
    }
   },
   "source": [
    "Using the counter class and the bigrams and trigrams, we can eliminate the need for the most common bigram/trigram and instead\n",
    "just use the list of bigrams and trigrams as features. The most common bigram was only in ~13% of the female names and ~12%\n",
    "of the male names."
   ]
  },
  {
   "cell_type": "markdown",
   "metadata": {
    "pycharm": {
     "name": "#%% md\n"
    }
   },
   "source": [
    "### Feature Generation Function\n",
    "This function will be applied to our lists of names to create the features that we identified as potential predictors above."
   ]
  },
  {
   "cell_type": "code",
   "execution_count": 58,
   "metadata": {
    "pycharm": {
     "is_executing": false,
     "name": "#%%\n"
    }
   },
   "outputs": [],
   "source": [
    "# feature generator\n",
    "def gender_features(name):\n",
    "    # length of name\n",
    "    length = len(name)\n",
    "    \n",
    "    # last letter, first letter, vowel last/first letter\n",
    "    first_letter = name[0]\n",
    "    vowel_first_letter = first_letter in 'aeiou'\n",
    "    last_letter = name[-1]\n",
    "    vowel_last_letter = last_letter in 'aeiou'\n",
    "    \n",
    "    # vowel/consonants + counts\n",
    "    vowels = name.replace(r'[^aeiou]', '')\n",
    "    vowel_count = len(vowels)\n",
    "    consonants = name.replace(r'[aeiou]', '')\n",
    "    consonant_count = len(consonants)\n",
    "    \n",
    "    # bigrams/trigrams\n",
    "    bigrams = list(ngrams(name, 2))\n",
    "    trigrams = list(ngrams(name, 3))\n",
    "    \n",
    "    # syllables\n",
    "    syllables = len(SSP.tokenize(name))\n",
    "    \n",
    "    return {\n",
    "        'length': length,\n",
    "        'first_letter': first_letter,\n",
    "        'vowel_first_letter': vowel_first_letter,\n",
    "        'last_letter': last_letter,\n",
    "        'vowel_last_letter': vowel_last_letter,\n",
    "        'vowels': vowels,\n",
    "        'vowel_count': vowel_count,\n",
    "        'consonants': consonants,\n",
    "        'consonant_count': consonant_count,\n",
    "        'bigrams': bigrams,\n",
    "        'trigrams': trigrams,\n",
    "        'syllables': syllables\n",
    "    }"
   ]
  },
  {
   "cell_type": "markdown",
   "metadata": {},
   "source": [
    "## Data Exploration\n",
    "Lets get a better feel for how our data is composed. In this exploration step, we will confirm whether any of the features\n",
    "we created will become good predictors of gender. Exploration will occur both visually as well as computationally."
   ]
  },
  {
   "cell_type": "code",
   "execution_count": 59,
   "metadata": {
    "pycharm": {
     "is_executing": false,
     "name": "#%%\n"
    }
   },
   "outputs": [
    {
     "data": {
      "text/html": [
       "<div>\n",
       "<style scoped>\n",
       "    .dataframe tbody tr th:only-of-type {\n",
       "        vertical-align: middle;\n",
       "    }\n",
       "\n",
       "    .dataframe tbody tr th {\n",
       "        vertical-align: top;\n",
       "    }\n",
       "\n",
       "    .dataframe thead th {\n",
       "        text-align: right;\n",
       "    }\n",
       "</style>\n",
       "<table border=\"1\" class=\"dataframe\">\n",
       "  <thead>\n",
       "    <tr style=\"text-align: right;\">\n",
       "      <th></th>\n",
       "      <th>length</th>\n",
       "      <th>vowel_last_letter</th>\n",
       "      <th>vowel_first_letter</th>\n",
       "      <th>vowel_count</th>\n",
       "      <th>consonant_count</th>\n",
       "      <th>syllables</th>\n",
       "    </tr>\n",
       "    <tr>\n",
       "      <th>gender</th>\n",
       "      <th></th>\n",
       "      <th></th>\n",
       "      <th></th>\n",
       "      <th></th>\n",
       "      <th></th>\n",
       "      <th></th>\n",
       "    </tr>\n",
       "  </thead>\n",
       "  <tbody>\n",
       "    <tr>\n",
       "      <td>female</td>\n",
       "      <td>6.153894</td>\n",
       "      <td>0.725621</td>\n",
       "      <td>0.173940</td>\n",
       "      <td>2.678847</td>\n",
       "      <td>3.475047</td>\n",
       "      <td>2.476926</td>\n",
       "    </tr>\n",
       "    <tr>\n",
       "      <td>male</td>\n",
       "      <td>5.936468</td>\n",
       "      <td>0.238335</td>\n",
       "      <td>0.156138</td>\n",
       "      <td>2.203159</td>\n",
       "      <td>3.733309</td>\n",
       "      <td>2.050610</td>\n",
       "    </tr>\n",
       "  </tbody>\n",
       "</table>\n",
       "</div>"
      ],
      "text/plain": [
       "          length  vowel_last_letter  vowel_first_letter  vowel_count  \\\n",
       "gender                                                                 \n",
       "female  6.153894           0.725621            0.173940     2.678847   \n",
       "male    5.936468           0.238335            0.156138     2.203159   \n",
       "\n",
       "        consonant_count  syllables  \n",
       "gender                              \n",
       "female         3.475047   2.476926  \n",
       "male           3.733309   2.050610  "
      ]
     },
     "execution_count": 59,
     "metadata": {},
     "output_type": "execute_result"
    }
   ],
   "source": [
    "# use our created variables to generate some summary statistics\n",
    "data.groupby('gender').mean()"
   ]
  },
  {
   "cell_type": "code",
   "execution_count": 60,
   "metadata": {
    "pycharm": {
     "is_executing": false,
     "name": "#%%\n"
    }
   },
   "outputs": [],
   "source": [
    "# separate features from label\n",
    "X = data.drop(columns=['name', 'gender'])\n",
    "y = data['gender']"
   ]
  },
  {
   "cell_type": "markdown",
   "metadata": {
    "pycharm": {
     "name": "#%% md\n"
    }
   },
   "source": [
    "Based on the above chart, we see that females have a higher name length on average, higher vowel counts, and the last letter is 72% of the time a vowel.\n",
    "These appear to be good predictors. We need to visual confirm what we see numerically"
   ]
  },
  {
   "cell_type": "code",
   "execution_count": 61,
   "metadata": {
    "pycharm": {
     "is_executing": false,
     "name": "#%%\n"
    }
   },
   "outputs": [
    {
     "data": {
      "text/plain": [
       "<matplotlib.axes._subplots.AxesSubplot at 0x1a542e1fd0>"
      ]
     },
     "execution_count": 61,
     "metadata": {},
     "output_type": "execute_result"
    },
    {
     "data": {
      "text/plain": [
       "<matplotlib.axes._subplots.AxesSubplot at 0x1a20028410>"
      ]
     },
     "execution_count": 61,
     "metadata": {},
     "output_type": "execute_result"
    },
    {
     "data": {
      "image/png": "[encoded data removed]",
      "text/plain": [
       "<Figure size 1440x720 with 2 Axes>"
      ]
     },
     "metadata": {
      "needs_background": "light"
     },
     "output_type": "display_data"
    }
   ],
   "source": [
    "# categorical/numerical columns\n",
    "categorical_cols = X.loc[:, [col for col in X.columns if 'gram' not in col]].select_dtypes(include='object').columns\n",
    "numerical_cols = X.select_dtypes(include=np.number).columns\n",
    "\n",
    "fig, ax = plt.subplots(1, 2, figsize=(20, 10))\n",
    "\n",
    "for var, subplot in zip(categorical_cols[:2], ax.flatten()):\n",
    "    sns.countplot(x=var, data=data, ax=subplot)\n",
    "    # rotate labels for easy viewing\n",
    "    for label in subplot.get_xticklabels():\n",
    "        label.set_rotation(90)"
   ]
  },
  {
   "cell_type": "markdown",
   "metadata": {
    "pycharm": {
     "name": "#%% md\n"
    }
   },
   "source": [
    "The distributions above don't tell us much. We need to condition on gender."
   ]
  },
  {
   "cell_type": "code",
   "execution_count": 62,
   "metadata": {},
   "outputs": [
    {
     "name": "stdout",
     "output_type": "stream",
     "text": [
      "['a', 'b', 'c', 'd', 'e', 'f', 'g', 'h', 'i', 'j', 'k', 'l', 'm', 'n', 'o', 'p', 'r', 's', 't', 'u', 'v', 'w', 'x', 'y', 'z']\n"
     ]
    }
   ],
   "source": [
    "order = list(set(data['last_letter']))\n",
    "order.sort()\n",
    "print(order)"
   ]
  },
  {
   "cell_type": "code",
   "execution_count": 63,
   "metadata": {
    "pycharm": {
     "is_executing": false,
     "name": "#%%\n"
    }
   },
   "outputs": [
    {
     "name": "stderr",
     "output_type": "stream",
     "text": [
      "/Users/betsyrosalen/anaconda3/lib/python3.7/site-packages/seaborn/axisgrid.py:715: UserWarning: Using the countplot function without specifying `order` is likely to produce an incorrect plot.\n",
      "  warnings.warn(warning)\n"
     ]
    },
    {
     "data": {
      "text/plain": [
       "<seaborn.axisgrid.FacetGrid at 0x1a537ef490>"
      ]
     },
     "execution_count": 63,
     "metadata": {},
     "output_type": "execute_result"
    },
    {
     "data": {
      "image/png": "[encoded data removed]",
      "text/plain": [
       "<Figure size 440x216 with 2 Axes>"
      ]
     },
     "metadata": {
      "needs_background": "light"
     },
     "output_type": "display_data"
    },
    {
     "data": {
      "text/plain": [
       "<seaborn.axisgrid.FacetGrid at 0x1a5384c350>"
      ]
     },
     "execution_count": 63,
     "metadata": {},
     "output_type": "execute_result"
    },
    {
     "data": {
      "image/png": "[encoded data removed]",
      "text/plain": [
       "<Figure size 440x216 with 2 Axes>"
      ]
     },
     "metadata": {
      "needs_background": "light"
     },
     "output_type": "display_data"
    }
   ],
   "source": [
    "cond_plot = sns.FacetGrid(data=data, col='gender')\n",
    "cond_plot.map(sns.countplot, 'last_letter').add_legend()\n",
    "plt.tight_layout()\n",
    "plt.show()\n",
    "\n",
    "cond_plot = sns.FacetGrid(data=data, col='gender')\n",
    "cond_plot.map(sns.countplot, 'first_letter').add_legend()\n",
    "plt.tight_layout()\n",
    "plt.show()"
   ]
  },
  {
   "cell_type": "markdown",
   "metadata": {
    "pycharm": {
     "name": "#%% md\n"
    }
   },
   "source": [
    "It would appear that both the first and the last letter could be pretty good predictors for gender."
   ]
  },
  {
   "cell_type": "code",
   "execution_count": 64,
   "metadata": {
    "pycharm": {
     "is_executing": false,
     "name": "#%%\n"
    }
   },
   "outputs": [
    {
     "data": {
      "text/plain": [
       "<matplotlib.axes._subplots.AxesSubplot at 0x1a54dd0210>"
      ]
     },
     "execution_count": 64,
     "metadata": {},
     "output_type": "execute_result"
    },
    {
     "data": {
      "text/plain": [
       "<matplotlib.axes._subplots.AxesSubplot at 0x1a54e106d0>"
      ]
     },
     "execution_count": 64,
     "metadata": {},
     "output_type": "execute_result"
    },
    {
     "data": {
      "text/plain": [
       "<matplotlib.axes._subplots.AxesSubplot at 0x1a54e9f390>"
      ]
     },
     "execution_count": 64,
     "metadata": {},
     "output_type": "execute_result"
    },
    {
     "data": {
      "text/plain": [
       "<matplotlib.axes._subplots.AxesSubplot at 0x1a54ede710>"
      ]
     },
     "execution_count": 64,
     "metadata": {},
     "output_type": "execute_result"
    },
    {
     "data": {
      "image/png": "[encoded data removed]",
      "text/plain": [
       "<Figure size 1440x720 with 4 Axes>"
      ]
     },
     "metadata": {
      "needs_background": "light"
     },
     "output_type": "display_data"
    }
   ],
   "source": [
    "# numerical columns to gender exploration\n",
    "fig, ax = plt.subplots(1, 4, figsize=(20, 10))\n",
    "\n",
    "for var, subplot in zip(numerical_cols, ax.flatten()):\n",
    "    sns.boxplot(x='gender', y=var, data=data, ax=subplot)\n",
    "    "
   ]
  },
  {
   "cell_type": "markdown",
   "metadata": {
    "pycharm": {
     "name": "#%% md\n"
    }
   },
   "source": [
    "From the boxplots above, we can safely rule out vowel cunt, consonant count, and length as strong predictors of gender."
   ]
  },
  {
   "cell_type": "markdown",
   "metadata": {
    "pycharm": {
     "name": "#%% md\n"
    }
   },
   "source": [
    "## Data Preparation\n",
    "We need to apply our feature generation function to our list of names and then split the lists into training, test, and validation sets."
   ]
  },
  {
   "cell_type": "code",
   "execution_count": 65,
   "metadata": {
    "pycharm": {
     "is_executing": false,
     "name": "#%%\n"
    }
   },
   "outputs": [
    {
     "name": "stderr",
     "output_type": "stream",
     "text": [
      "/Users/betsyrosalen/anaconda3/lib/python3.7/site-packages/nltk/tokenize/sonority_sequencing.py:102: UserWarning: Character not defined in sonority_hierarchy, assigning as vowel: ' '\n",
      "  \" assigning as vowel: '{}'\".format(c))\n"
     ]
    }
   ],
   "source": [
    "# apply feature generation function\n",
    "all_names = [(gender_features(name), gender) for name, gender in all_names]\n",
    "\n",
    "# create each set of data\n",
    "dev_set = all_names[:1000]\n",
    "test = all_names[-6900:]\n",
    "\n",
    "# create each set of data\n",
    "train = dev_set[:500]\n",
    "dev_test = dev_set[500:]"
   ]
  },
  {
   "cell_type": "code",
   "execution_count": null,
   "metadata": {},
   "outputs": [],
   "source": []
  },
  {
   "cell_type": "code",
   "execution_count": null,
   "metadata": {},
   "outputs": [],
   "source": []
  },
  {
   "cell_type": "code",
   "execution_count": null,
   "metadata": {},
   "outputs": [],
   "source": []
  }
 ],
 "metadata": {
  "kernelspec": {
   "display_name": "Python 3",
   "language": "python",
   "name": "python3"
  },
  "language_info": {
   "codemirror_mode": {
    "name": "ipython",
    "version": 3
   },
   "file_extension": ".py",
   "mimetype": "text/x-python",
   "name": "python",
   "nbconvert_exporter": "python",
   "pygments_lexer": "ipython3",
   "version": "3.7.4"
  },
  "pycharm": {
   "stem_cell": {
    "cell_type": "raw",
    "metadata": {
     "collapsed": false
    },
    "source": []
   }
  }
 },
 "nbformat": 4,
 "nbformat_minor": 1
}
