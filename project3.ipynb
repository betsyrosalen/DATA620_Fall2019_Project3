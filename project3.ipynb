{
 "cells": [
  {
   "cell_type": "markdown",
   "metadata": {
    "collapsed": true,
    "pycharm": {
     "name": "#%% md\n"
    }
   },
   "source": [
    "# Data 620 - Project 3\n",
    "Baron Curtin, Heather Geiger, Mikhail Groysman, Betsy Rosalen \n",
    "\n",
    "Using any of the three classifiers described in chapter 6 of Natural Language Processing with Python,\n",
    "and any features you can think of, build the best name gender classifier you can.\n",
    "\n",
    "Begin by splitting the Names Corpus into three subsets: 500 words for the test set, 500 words for the devtest set, and the remaining 6900 words for the training set. Then, starting with the example name gender\n",
    "classifier, make incremental improvements. Use the dev-test set to check your progress. Once you are\n",
    "satisfied with your classifier, check its final performance on the test set.\n",
    "\n",
    "How does the performance on the test set compare to the performance on the dev-test set? Is this what\n",
    "you'd expect? "
   ]
  },
  {
   "cell_type": "code",
   "execution_count": 6,
   "outputs": [],
   "source": [
    "# library imports\n",
    "import random\n",
    "from collections import Counter\n",
    "from nltk import download\n",
    "from nltk.corpus import names\n",
    "from nltk.util import ngrams\n",
    "from nltk.tokenize.sonority_sequencing import SyllableTokenizer\n",
    "from nltk import NaiveBayesClassifier\n",
    "import matplotlib.pyplot as plt\n",
    "import seaborn as sns\n",
    "\n",
    "import pandas as pd\n",
    "import numpy as np\n",
    "\n",
    "# jupyter setup\n",
    "from IPython.core.interactiveshell import InteractiveShell\n",
    "InteractiveShell.ast_node_interactivity = \"all\"\n"
   ],
   "metadata": {
    "collapsed": false,
    "pycharm": {
     "name": "#%%\n",
     "is_executing": false
    }
   }
  },
  {
   "cell_type": "markdown",
   "source": [
    "## Data Loading/Preparation\n",
    "In the following cells, we will be loading the corpus into memory, labelling all of the names, and then randomizing the\n",
    "list of names for later use. Randomizing the names will ensure that our training/test sets will contain both genders from \n",
    "which we should be able to create numerous features from."
   ],
   "metadata": {
    "collapsed": false,
    "pycharm": {
     "name": "#%% md\n"
    }
   }
  },
  {
   "cell_type": "code",
   "execution_count": 7,
   "outputs": [
    {
     "name": "stderr",
     "text": [
      "[nltk_data] Downloading package names to\n[nltk_data]     C:\\Users\\bacur\\AppData\\Roaming\\nltk_data...\n[nltk_data]   Unzipping corpora\\names.zip.\n"
     ],
     "output_type": "stream"
    },
    {
     "data": {
      "text/plain": "True"
     },
     "metadata": {},
     "output_type": "execute_result",
     "execution_count": 7
    }
   ],
   "source": [
    "# read in names from the files\n",
    "# label each name with corresponding gender\n",
    "# names to be lowercase for easy recognition \n",
    "download('names')\n",
    "males = [(name.lower(), 'male') for name in names.words('male.txt')]\n",
    "females = [(name.lower(), 'female') for name in names.words('female.txt')]\n",
    "\n",
    "# combine lists of names\n",
    "all_names = males + females\n",
    "\n",
    "# randomize the list\n",
    "random.shuffle(all_names)"
   ],
   "metadata": {
    "collapsed": false,
    "pycharm": {
     "name": "#%%\n",
     "is_executing": false
    }
   }
  },
  {
   "cell_type": "markdown",
   "source": [
    "## Feature Creation\n",
    "Features are the most important part of what goes into a machine learning model. For that reason, it is critically important\n",
    "to try to come up with features that make the most sense in identifying gender differences in names. To make creation and analysis easier,\n",
    "we will put our data in a Pandas dataframe."
   ],
   "metadata": {
    "collapsed": false
   }
  },
  {
   "cell_type": "code",
   "execution_count": 8,
   "outputs": [
    {
     "data": {
      "text/plain": "     name  gender\n0  ruddie    male\n1    aina  female\n2   malva  female\n3    moss    male\n4   flori  female",
      "text/html": "<div>\n<style scoped>\n    .dataframe tbody tr th:only-of-type {\n        vertical-align: middle;\n    }\n\n    .dataframe tbody tr th {\n        vertical-align: top;\n    }\n\n    .dataframe thead th {\n        text-align: right;\n    }\n</style>\n<table border=\"1\" class=\"dataframe\">\n  <thead>\n    <tr style=\"text-align: right;\">\n      <th></th>\n      <th>name</th>\n      <th>gender</th>\n    </tr>\n  </thead>\n  <tbody>\n    <tr>\n      <td>0</td>\n      <td>ruddie</td>\n      <td>male</td>\n    </tr>\n    <tr>\n      <td>1</td>\n      <td>aina</td>\n      <td>female</td>\n    </tr>\n    <tr>\n      <td>2</td>\n      <td>malva</td>\n      <td>female</td>\n    </tr>\n    <tr>\n      <td>3</td>\n      <td>moss</td>\n      <td>male</td>\n    </tr>\n    <tr>\n      <td>4</td>\n      <td>flori</td>\n      <td>female</td>\n    </tr>\n  </tbody>\n</table>\n</div>"
     },
     "metadata": {},
     "output_type": "execute_result",
     "execution_count": 8
    }
   ],
   "source": [
    "# create dataframe\n",
    "data = pd.DataFrame.from_dict(dict(all_names), orient='index', columns=['gender']).reset_index()\n",
    "data.columns = ['name', 'gender']\n",
    "data.head()"
   ],
   "metadata": {
    "collapsed": false,
    "pycharm": {
     "name": "#%%\n",
     "is_executing": false
    }
   }
  },
  {
   "cell_type": "code",
   "execution_count": 9,
   "outputs": [
    {
     "name": "stderr",
     "text": [
      "C:\\Users\\bacur\\Miniconda3\\lib\\site-packages\\nltk\\tokenize\\sonority_sequencing.py:102: UserWarning: Character not defined in sonority_hierarchy, assigning as vowel: ' '\n  \" assigning as vowel: '{}'\".format(c))\n"
     ],
     "output_type": "stream"
    },
    {
     "data": {
      "text/plain": "     name  gender  length last_letter first_letter  vowel_last_letter  \\\n0  ruddie    male       6           e            r               True   \n1    aina  female       4           a            a               True   \n2   malva  female       5           a            m               True   \n3    moss    male       4           s            m              False   \n4   flori  female       5           i            f               True   \n\n   vowel_first_letter vowels consonants  vowel_count  consonant_count  \\\n0               False    uie        rdd            3                3   \n1                True    aia          n            3                1   \n2               False     aa        mlv            2                3   \n3               False      o        mss            1                3   \n4               False     oi        flr            2                3   \n\n                                    bigrams  \\\n0  [(r, u), (u, d), (d, d), (d, i), (i, e)]   \n1                  [(a, i), (i, n), (n, a)]   \n2          [(m, a), (a, l), (l, v), (v, a)]   \n3                  [(m, o), (o, s), (s, s)]   \n4          [(f, l), (l, o), (o, r), (r, i)]   \n\n                                       trigrams  syllables  \n0  [(r, u, d), (u, d, d), (d, d, i), (d, i, e)]          2  \n1                        [(a, i, n), (i, n, a)]          2  \n2             [(m, a, l), (a, l, v), (l, v, a)]          2  \n3                        [(m, o, s), (o, s, s)]          1  \n4             [(f, l, o), (l, o, r), (o, r, i)]          2  ",
      "text/html": "<div>\n<style scoped>\n    .dataframe tbody tr th:only-of-type {\n        vertical-align: middle;\n    }\n\n    .dataframe tbody tr th {\n        vertical-align: top;\n    }\n\n    .dataframe thead th {\n        text-align: right;\n    }\n</style>\n<table border=\"1\" class=\"dataframe\">\n  <thead>\n    <tr style=\"text-align: right;\">\n      <th></th>\n      <th>name</th>\n      <th>gender</th>\n      <th>length</th>\n      <th>last_letter</th>\n      <th>first_letter</th>\n      <th>vowel_last_letter</th>\n      <th>vowel_first_letter</th>\n      <th>vowels</th>\n      <th>consonants</th>\n      <th>vowel_count</th>\n      <th>consonant_count</th>\n      <th>bigrams</th>\n      <th>trigrams</th>\n      <th>syllables</th>\n    </tr>\n  </thead>\n  <tbody>\n    <tr>\n      <td>0</td>\n      <td>ruddie</td>\n      <td>male</td>\n      <td>6</td>\n      <td>e</td>\n      <td>r</td>\n      <td>True</td>\n      <td>False</td>\n      <td>uie</td>\n      <td>rdd</td>\n      <td>3</td>\n      <td>3</td>\n      <td>[(r, u), (u, d), (d, d), (d, i), (i, e)]</td>\n      <td>[(r, u, d), (u, d, d), (d, d, i), (d, i, e)]</td>\n      <td>2</td>\n    </tr>\n    <tr>\n      <td>1</td>\n      <td>aina</td>\n      <td>female</td>\n      <td>4</td>\n      <td>a</td>\n      <td>a</td>\n      <td>True</td>\n      <td>True</td>\n      <td>aia</td>\n      <td>n</td>\n      <td>3</td>\n      <td>1</td>\n      <td>[(a, i), (i, n), (n, a)]</td>\n      <td>[(a, i, n), (i, n, a)]</td>\n      <td>2</td>\n    </tr>\n    <tr>\n      <td>2</td>\n      <td>malva</td>\n      <td>female</td>\n      <td>5</td>\n      <td>a</td>\n      <td>m</td>\n      <td>True</td>\n      <td>False</td>\n      <td>aa</td>\n      <td>mlv</td>\n      <td>2</td>\n      <td>3</td>\n      <td>[(m, a), (a, l), (l, v), (v, a)]</td>\n      <td>[(m, a, l), (a, l, v), (l, v, a)]</td>\n      <td>2</td>\n    </tr>\n    <tr>\n      <td>3</td>\n      <td>moss</td>\n      <td>male</td>\n      <td>4</td>\n      <td>s</td>\n      <td>m</td>\n      <td>False</td>\n      <td>False</td>\n      <td>o</td>\n      <td>mss</td>\n      <td>1</td>\n      <td>3</td>\n      <td>[(m, o), (o, s), (s, s)]</td>\n      <td>[(m, o, s), (o, s, s)]</td>\n      <td>1</td>\n    </tr>\n    <tr>\n      <td>4</td>\n      <td>flori</td>\n      <td>female</td>\n      <td>5</td>\n      <td>i</td>\n      <td>f</td>\n      <td>True</td>\n      <td>False</td>\n      <td>oi</td>\n      <td>flr</td>\n      <td>2</td>\n      <td>3</td>\n      <td>[(f, l), (l, o), (o, r), (r, i)]</td>\n      <td>[(f, l, o), (l, o, r), (o, r, i)]</td>\n      <td>2</td>\n    </tr>\n  </tbody>\n</table>\n</div>"
     },
     "metadata": {},
     "output_type": "execute_result",
     "execution_count": 9
    }
   ],
   "source": [
    "# instatiate syllable tokenize\n",
    "SSP = SyllableTokenizer()\n",
    "\n",
    "# create various feature columns for exploration\n",
    "data['length'] = data['name'].str.len()\n",
    "data['last_letter'] = data['name'].str[-1]\n",
    "data['first_letter'] = data['name'].str[0]\n",
    "data['vowel_last_letter'] = data['last_letter'].isin([*'aeiou'])\n",
    "data['vowel_first_letter'] = data['first_letter'].isin([*'aeiou'])\n",
    "data['vowels'] = data['name'].str.replace(r'[^aeiou]', '')\n",
    "data['consonants'] = data['name'].str.replace(r'[aeiou]', '')\n",
    "data['vowel_count'] = data['vowels'].str.len()\n",
    "data['consonant_count'] = data['consonants'].str.len()\n",
    "data['bigrams'] = data['name'].apply(lambda x: list(ngrams(x, 2)))\n",
    "data['trigrams'] = data['name'].apply(lambda x: list(ngrams(x, 3)))\n",
    "data['syllables'] = data['name'].apply(lambda x: len(SSP.tokenize(x)))\n",
    "\n",
    "# preview data\n",
    "data.head()"
   ],
   "metadata": {
    "collapsed": false,
    "pycharm": {
     "name": "#%%\n",
     "is_executing": false
    }
   }
  },
  {
   "cell_type": "code",
   "execution_count": 10,
   "outputs": [
    {
     "data": {
      "text/plain": "                                                  bigrams  \\\ngender                                                      \nfemale  [(a, i), (i, n), (n, a), (m, a), (a, l), (l, v...   \nmale    [(r, u), (u, d), (d, d), (d, i), (i, e), (m, o...   \n\n                                                 trigrams  \\\ngender                                                      \nfemale  [(a, i, n), (i, n, a), (m, a, l), (a, l, v), (...   \nmale    [(r, u, d), (u, d, d), (d, d, i), (d, i, e), (...   \n\n                                          bigrams_counter  \\\ngender                                                      \nfemale  {('a', 'i'): 85, ('i', 'n'): 567, ('n', 'a'): ...   \nmale    {('r', 'u'): 36, ('u', 'd'): 37, ('d', 'd'): 3...   \n\n                                         trigrams_counter  \ngender                                                     \nfemale  {('a', 'i', 'n'): 29, ('i', 'n', 'a'): 178, ('...  \nmale    {('r', 'u', 'd'): 10, ('u', 'd', 'd'): 5, ('d'...  ",
      "text/html": "<div>\n<style scoped>\n    .dataframe tbody tr th:only-of-type {\n        vertical-align: middle;\n    }\n\n    .dataframe tbody tr th {\n        vertical-align: top;\n    }\n\n    .dataframe thead th {\n        text-align: right;\n    }\n</style>\n<table border=\"1\" class=\"dataframe\">\n  <thead>\n    <tr style=\"text-align: right;\">\n      <th></th>\n      <th>bigrams</th>\n      <th>trigrams</th>\n      <th>bigrams_counter</th>\n      <th>trigrams_counter</th>\n    </tr>\n    <tr>\n      <th>gender</th>\n      <th></th>\n      <th></th>\n      <th></th>\n      <th></th>\n    </tr>\n  </thead>\n  <tbody>\n    <tr>\n      <td>female</td>\n      <td>[(a, i), (i, n), (n, a), (m, a), (a, l), (l, v...</td>\n      <td>[(a, i, n), (i, n, a), (m, a, l), (a, l, v), (...</td>\n      <td>{('a', 'i'): 85, ('i', 'n'): 567, ('n', 'a'): ...</td>\n      <td>{('a', 'i', 'n'): 29, ('i', 'n', 'a'): 178, ('...</td>\n    </tr>\n    <tr>\n      <td>male</td>\n      <td>[(r, u), (u, d), (d, d), (d, i), (i, e), (m, o...</td>\n      <td>[(r, u, d), (u, d, d), (d, d, i), (d, i, e), (...</td>\n      <td>{('r', 'u'): 36, ('u', 'd'): 37, ('d', 'd'): 3...</td>\n      <td>{('r', 'u', 'd'): 10, ('u', 'd', 'd'): 5, ('d'...</td>\n    </tr>\n  </tbody>\n</table>\n</div>"
     },
     "metadata": {},
     "output_type": "execute_result",
     "execution_count": 10
    }
   ],
   "source": [
    "# lets analyze our bigrams and trigrams columns to get the most common ngrams by gender\n",
    "ngrams_gender = data.groupby('gender')[['bigrams', 'trigrams']].sum()\n",
    "ngrams_gender['bigrams_counter'] = ngrams_gender['bigrams'].apply(lambda x: Counter(x))\n",
    "ngrams_gender['trigrams_counter'] = ngrams_gender['trigrams'].apply(lambda x: Counter(x))\n",
    "ngrams_gender"
   ],
   "metadata": {
    "collapsed": false,
    "pycharm": {
     "name": "#%%\n",
     "is_executing": false
    }
   }
  },
  {
   "cell_type": "markdown",
   "source": [
    "Using the counter class and the bigrams and trigrams, we can eliminate the need for the most common bigram/trigram and instead\n",
    "just use the list of bigrams and trigrams as features. The most common bigram was only in ~13% of the female names and ~12%\n",
    "of the male names."
   ],
   "metadata": {
    "collapsed": false,
    "pycharm": {
     "name": "#%% md\n"
    }
   }
  },
  {
   "cell_type": "markdown",
   "source": [
    "### Feature Generation Function\n",
    "This function will be applied to our lists of names to create the features that we identified as potential predictors above."
   ],
   "metadata": {
    "collapsed": false,
    "pycharm": {
     "name": "#%% md\n"
    }
   }
  },
  {
   "cell_type": "code",
   "execution_count": 11,
   "outputs": [],
   "source": [
    "# feature generator\n",
    "def gender_features(name):\n",
    "    # length of name\n",
    "    length = len(name)\n",
    "    \n",
    "    # last letter, first letter, vowel last/first letter\n",
    "    first_letter = name[0]\n",
    "    vowel_first_letter = first_letter in 'aeiou'\n",
    "    last_letter = name[-1]\n",
    "    vowel_last_letter = last_letter in 'aeiou'\n",
    "    \n",
    "    # vowel/consonants + counts\n",
    "    vowels = name.replace(r'[^aeiou]', '')\n",
    "    vowel_count = len(vowels)\n",
    "    consonants = name.replace(r'[aeiou]', '')\n",
    "    consonant_count = len(consonants)\n",
    "    \n",
    "    # bigrams/trigrams\n",
    "    bigrams = list(ngrams(name, 2))\n",
    "    trigrams = list(ngrams(name, 3))\n",
    "    \n",
    "    # syllables\n",
    "    syllables = len(SSP.tokenize(name))\n",
    "    \n",
    "    return {\n",
    "        'length': length,\n",
    "        'first_letter': first_letter,\n",
    "        'vowel_first_letter': vowel_first_letter,\n",
    "        'last_letter': last_letter,\n",
    "        'vowel_last_letter': vowel_last_letter,\n",
    "        'vowels': vowels,\n",
    "        'vowel_count': vowel_count,\n",
    "        'consonants': consonants,\n",
    "        'consonant_count': consonant_count,\n",
    "        'bigrams': bigrams,\n",
    "        'trigrams': trigrams,\n",
    "        'syllables': syllables\n",
    "    }"
   ],
   "metadata": {
    "collapsed": false,
    "pycharm": {
     "name": "#%%\n",
     "is_executing": false
    }
   }
  },
  {
   "cell_type": "markdown",
   "source": [
    "## Data Exploration\n",
    "Lets get a better feel for how our data is composed. In this exploration step, we will confirm whether any of the features\n",
    "we created will become good predictors of gender. Exploration will occur both visually as well as computationally."
   ],
   "metadata": {
    "collapsed": false
   }
  },
  {
   "cell_type": "code",
   "execution_count": 12,
   "outputs": [
    {
     "data": {
      "text/plain": "          length  vowel_last_letter  vowel_first_letter  vowel_count  \\\ngender                                                                 \nfemale  6.144958           0.723545            0.173121     2.673224   \nmale    5.948671           0.234802            0.157262     2.206043   \n\n        consonant_count  syllables  \ngender                              \nfemale         3.471733   2.471940  \nmale           3.742628   2.053149  ",
      "text/html": "<div>\n<style scoped>\n    .dataframe tbody tr th:only-of-type {\n        vertical-align: middle;\n    }\n\n    .dataframe tbody tr th {\n        vertical-align: top;\n    }\n\n    .dataframe thead th {\n        text-align: right;\n    }\n</style>\n<table border=\"1\" class=\"dataframe\">\n  <thead>\n    <tr style=\"text-align: right;\">\n      <th></th>\n      <th>length</th>\n      <th>vowel_last_letter</th>\n      <th>vowel_first_letter</th>\n      <th>vowel_count</th>\n      <th>consonant_count</th>\n      <th>syllables</th>\n    </tr>\n    <tr>\n      <th>gender</th>\n      <th></th>\n      <th></th>\n      <th></th>\n      <th></th>\n      <th></th>\n      <th></th>\n    </tr>\n  </thead>\n  <tbody>\n    <tr>\n      <td>female</td>\n      <td>6.144958</td>\n      <td>0.723545</td>\n      <td>0.173121</td>\n      <td>2.673224</td>\n      <td>3.471733</td>\n      <td>2.471940</td>\n    </tr>\n    <tr>\n      <td>male</td>\n      <td>5.948671</td>\n      <td>0.234802</td>\n      <td>0.157262</td>\n      <td>2.206043</td>\n      <td>3.742628</td>\n      <td>2.053149</td>\n    </tr>\n  </tbody>\n</table>\n</div>"
     },
     "metadata": {},
     "output_type": "execute_result",
     "execution_count": 12
    }
   ],
   "source": [
    "# use our created variables to generate some summary statistics\n",
    "data.groupby('gender').mean()"
   ],
   "metadata": {
    "collapsed": false,
    "pycharm": {
     "name": "#%%\n",
     "is_executing": false
    }
   }
  },
  {
   "cell_type": "code",
   "execution_count": 13,
   "outputs": [],
   "source": [
    "# separate features from label\n",
    "X = data.drop(columns=['name', 'gender'])\n",
    "y = data['gender']"
   ],
   "metadata": {
    "collapsed": false,
    "pycharm": {
     "name": "#%%\n",
     "is_executing": false
    }
   }
  },
  {
   "cell_type": "markdown",
   "source": [
    "Based on the above chart, we see that females have a higher name length on average, higher vowel counts, and the last letter is 72% of the time a vowel.\n",
    "These appear to be good predictors. We need to visual confirm what we see numerically"
   ],
   "metadata": {
    "collapsed": false,
    "pycharm": {
     "name": "#%% md\n"
    }
   }
  },
  {
   "cell_type": "code",
   "execution_count": 19,
   "outputs": [
    {
     "data": {
      "text/plain": "<matplotlib.axes._subplots.AxesSubplot at 0x1f8aa2fb388>"
     },
     "metadata": {},
     "output_type": "execute_result",
     "execution_count": 19
    },
    {
     "data": {
      "text/plain": "<matplotlib.axes._subplots.AxesSubplot at 0x1f8aa526508>"
     },
     "metadata": {},
     "output_type": "execute_result",
     "execution_count": 19
    },
    {
     "data": {
      "text/plain": "<Figure size 1440x720 with 2 Axes>",
      "image/png": "[encoded data removed]"
     },
     "metadata": {
      "needs_background": "light"
     },
     "output_type": "display_data"
    }
   ],
   "source": [
    "# categorical/numerical columns\n",
    "categorical_cols = X.loc[:, [col for col in X.columns if 'gram' not in col]].select_dtypes(include='object').columns\n",
    "numerical_cols = X.select_dtypes(include=np.number).columns\n",
    "\n",
    "fig, ax = plt.subplots(1, 2, figsize=(20, 10))\n",
    "\n",
    "for var, subplot in zip(categorical_cols[:2], ax.flatten()):\n",
    "    sns.countplot(x=var, data=data, ax=subplot)\n",
    "    # rotate labels for easy viewing\n",
    "    for label in subplot.get_xticklabels():\n",
    "        label.set_rotation(90)"
   ],
   "metadata": {
    "collapsed": false,
    "pycharm": {
     "name": "#%%\n",
     "is_executing": false
    }
   }
  },
  {
   "cell_type": "markdown",
   "source": [
    "The distributions above don't tell us much. We need to condition on gender."
   ],
   "metadata": {
    "collapsed": false,
    "pycharm": {
     "name": "#%% md\n"
    }
   }
  },
  {
   "cell_type": "code",
   "execution_count": 29,
   "outputs": [
    {
     "data": {
      "text/plain": "<seaborn.axisgrid.FacetGrid at 0x1f8ad644e08>"
     },
     "metadata": {},
     "output_type": "execute_result",
     "execution_count": 29
    },
    {
     "data": {
      "text/plain": "<Figure size 440x216 with 2 Axes>",
      "image/png": "[encoded data removed]"
     },
     "metadata": {
      "needs_background": "light"
     },
     "output_type": "display_data"
    },
    {
     "data": {
      "text/plain": "<seaborn.axisgrid.FacetGrid at 0x1f8ad77c348>"
     },
     "metadata": {},
     "output_type": "execute_result",
     "execution_count": 29
    },
    {
     "data": {
      "text/plain": "<Figure size 440x216 with 2 Axes>",
      "image/png": "[encoded data removed]"
     },
     "metadata": {
      "needs_background": "light"
     },
     "output_type": "display_data"
    }
   ],
   "source": [
    "cond_plot = sns.FacetGrid(data=data, col='gender')\n",
    "cond_plot.map(sns.countplot, 'last_letter').add_legend()\n",
    "plt.tight_layout()\n",
    "plt.show()\n",
    "\n",
    "cond_plot = sns.FacetGrid(data=data, col='gender')\n",
    "cond_plot.map(sns.countplot, 'first_letter').add_legend()\n",
    "plt.tight_layout()\n",
    "plt.show()"
   ],
   "metadata": {
    "collapsed": false,
    "pycharm": {
     "name": "#%%\n",
     "is_executing": false
    }
   }
  },
  {
   "cell_type": "markdown",
   "source": [
    "It would appear that both the first and the last letter could be pretty good predictors for gender."
   ],
   "metadata": {
    "collapsed": false,
    "pycharm": {
     "name": "#%% md\n"
    }
   }
  },
  {
   "cell_type": "code",
   "execution_count": 18,
   "outputs": [
    {
     "data": {
      "text/plain": "<matplotlib.axes._subplots.AxesSubplot at 0x1f8aa630a88>"
     },
     "metadata": {},
     "output_type": "execute_result",
     "execution_count": 18
    },
    {
     "data": {
      "text/plain": "<matplotlib.axes._subplots.AxesSubplot at 0x1f8aa339dc8>"
     },
     "metadata": {},
     "output_type": "execute_result",
     "execution_count": 18
    },
    {
     "data": {
      "text/plain": "<matplotlib.axes._subplots.AxesSubplot at 0x1f8aa36fcc8>"
     },
     "metadata": {},
     "output_type": "execute_result",
     "execution_count": 18
    },
    {
     "data": {
      "text/plain": "<matplotlib.axes._subplots.AxesSubplot at 0x1f8aa3a9188>"
     },
     "metadata": {},
     "output_type": "execute_result",
     "execution_count": 18
    },
    {
     "data": {
      "text/plain": "<Figure size 1440x720 with 4 Axes>",
      "image/png": "[encoded data removed]"
     },
     "metadata": {
      "needs_background": "light"
     },
     "output_type": "display_data"
    }
   ],
   "source": [
    "# numerical columns to gender exploration\n",
    "fig, ax = plt.subplots(1, 4, figsize=(20, 10))\n",
    "\n",
    "for var, subplot in zip(numerical_cols, ax.flatten()):\n",
    "    sns.boxplot(x='gender', y=var, data=data, ax=subplot)\n",
    "    "
   ],
   "metadata": {
    "collapsed": false,
    "pycharm": {
     "name": "#%%\n",
     "is_executing": false
    }
   }
  },
  {
   "cell_type": "markdown",
   "source": [
    "From the boxplots above, we can safely rule out vowel cunt, consonant count, and length as strong predictors of gender."
   ],
   "metadata": {
    "collapsed": false,
    "pycharm": {
     "name": "#%% md\n"
    }
   }
  },
  {
   "cell_type": "markdown",
   "source": [
    "## Data Preparation\n",
    "We need to apply our feature generation function to our list of names and then split the lists into training, test, and validation sets."
   ],
   "metadata": {
    "collapsed": false,
    "pycharm": {
     "name": "#%% md\n"
    }
   }
  },
  {
   "cell_type": "code",
   "execution_count": 15,
   "outputs": [],
   "source": [
    "# apply feature generation function\n",
    "all_names = [(gender_features(name), gender) for name, gender in all_names]\n",
    "\n",
    "# create each set of data\n",
    "train = all_names[:500]\n",
    "dev_test = all_names[500:1000]\n",
    "test = all_names[-6900:]\n"
   ],
   "metadata": {
    "collapsed": false,
    "pycharm": {
     "name": "#%%\n",
     "is_executing": false
    }
   }
  }
 ],
 "metadata": {
  "kernelspec": {
   "display_name": "Python 3",
   "language": "python",
   "name": "python3"
  },
  "language_info": {
   "codemirror_mode": {
    "name": "ipython",
    "version": 2
   },
   "file_extension": ".py",
   "mimetype": "text/x-python",
   "name": "python",
   "nbconvert_exporter": "python",
   "pygments_lexer": "ipython2",
   "version": "2.7.6"
  },
  "pycharm": {
   "stem_cell": {
    "cell_type": "raw",
    "source": [],
    "metadata": {
     "collapsed": false
    }
   }
  }
 },
 "nbformat": 4,
 "nbformat_minor": 0
}