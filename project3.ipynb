{
 "cells": [
  {
   "cell_type": "markdown",
   "metadata": {
    "collapsed": true,
    "pycharm": {
     "name": "#%% md\n"
    }
   },
   "source": [
    "# Data 620 - Project 3\n",
    "Baron Curtin, Heather Geiger, Mikhail Groysman, Betsy Rosalen \n",
    "\n",
    "Using any of the three classifiers described in chapter 6 of Natural Language Processing with Python,\n",
    "and any features you can think of, build the best name gender classifier you can.\n",
    "\n",
    "Begin by splitting the Names Corpus into three subsets: 500 words for the test set, 500 words for the devtest set, and the remaining 6900 words for the training set. Then, starting with the example name gender\n",
    "classifier, make incremental improvements. Use the dev-test set to check your progress. Once you are\n",
    "satisfied with your classifier, check its final performance on the test set.\n",
    "\n",
    "How does the performance on the test set compare to the performance on the dev-test set? Is this what\n",
    "you'd expect? "
   ]
  },
  {
   "cell_type": "code",
   "execution_count": 38,
   "outputs": [],
   "source": [
    "# library imports\n",
    "import random\n",
    "from collections import Counter\n",
    "from nltk import download\n",
    "from nltk.corpus import names\n",
    "from nltk.util import ngrams\n",
    "from nltk.tokenize.sonority_sequencing import SyllableTokenizer\n",
    "from nltk import NaiveBayesClassifier\n",
    "import matplotlib.pyplot as plt\n",
    "import seaborn as sns\n",
    "\n",
    "import pandas as pd\n",
    "import numpy as np\n",
    "\n",
    "# jupyter setup\n",
    "from IPython.core.interactiveshell import InteractiveShell\n",
    "InteractiveShell.ast_node_interactivity = \"all\"\n"
   ],
   "metadata": {
    "collapsed": false,
    "pycharm": {
     "name": "#%%\n",
     "is_executing": false
    }
   }
  },
  {
   "cell_type": "markdown",
   "source": [
    "## Data Loading/Preparation\n",
    "In the following cells, we will be loading the corpus into memory, labelling all of the names, and then randomizing the\n",
    "list of names for later use. Randomizing the names will ensure that our training/test sets will contain both genders from \n",
    "which we should be able to create numerous features from."
   ],
   "metadata": {
    "collapsed": false,
    "pycharm": {
     "name": "#%% md\n"
    }
   }
  },
  {
   "cell_type": "code",
   "execution_count": 39,
   "outputs": [],
   "source": [
    "# read in names from the files\n",
    "# label each name with corresponding gender\n",
    "# names to be lowercase for easy recognition \n",
    "males = [(name.lower(), 'male') for name in names.words('male.txt')]\n",
    "females = [(name.lower(), 'female') for name in names.words('female.txt')]\n",
    "\n",
    "# combine lists of names\n",
    "all_names = males + females\n",
    "\n",
    "# randomize the list\n",
    "random.shuffle(all_names)"
   ],
   "metadata": {
    "collapsed": false,
    "pycharm": {
     "name": "#%%\n",
     "is_executing": false
    }
   }
  },
  {
   "cell_type": "markdown",
   "source": [
    "## Feature Creation\n",
    "Features are the most important part of what goes into a machine learning model. For that reason, it is critically important\n",
    "to try to come up with features that make the most sense in identifying gender differences in names. To make creation and analysis easier,\n",
    "we will put our data in a Pandas dataframe."
   ],
   "metadata": {
    "collapsed": false
   }
  },
  {
   "cell_type": "code",
   "execution_count": 40,
   "outputs": [
    {
     "data": {
      "text/plain": "       name  gender\n0    paulie  female\n1     keely  female\n2  carlisle  female\n3       kia  female\n4     wells    male",
      "text/html": "<div>\n<style scoped>\n    .dataframe tbody tr th:only-of-type {\n        vertical-align: middle;\n    }\n\n    .dataframe tbody tr th {\n        vertical-align: top;\n    }\n\n    .dataframe thead th {\n        text-align: right;\n    }\n</style>\n<table border=\"1\" class=\"dataframe\">\n  <thead>\n    <tr style=\"text-align: right;\">\n      <th></th>\n      <th>name</th>\n      <th>gender</th>\n    </tr>\n  </thead>\n  <tbody>\n    <tr>\n      <td>0</td>\n      <td>paulie</td>\n      <td>female</td>\n    </tr>\n    <tr>\n      <td>1</td>\n      <td>keely</td>\n      <td>female</td>\n    </tr>\n    <tr>\n      <td>2</td>\n      <td>carlisle</td>\n      <td>female</td>\n    </tr>\n    <tr>\n      <td>3</td>\n      <td>kia</td>\n      <td>female</td>\n    </tr>\n    <tr>\n      <td>4</td>\n      <td>wells</td>\n      <td>male</td>\n    </tr>\n  </tbody>\n</table>\n</div>"
     },
     "metadata": {},
     "output_type": "execute_result",
     "execution_count": 40
    }
   ],
   "source": [
    "# create dataframe\n",
    "data = pd.DataFrame.from_dict(dict(all_names), orient='index', columns=['gender']).reset_index()\n",
    "data.columns = ['name', 'gender']\n",
    "data.head()"
   ],
   "metadata": {
    "collapsed": false,
    "pycharm": {
     "name": "#%%\n",
     "is_executing": false
    }
   }
  },
  {
   "cell_type": "code",
   "execution_count": 41,
   "outputs": [
    {
     "data": {
      "text/plain": "       name  gender  length last_letter first_letter  vowel_last_letter  \\\n0    paulie  female       6           e            p               True   \n1     keely  female       5           y            k              False   \n2  carlisle  female       8           e            c               True   \n3       kia  female       3           a            k               True   \n4     wells    male       5           s            w              False   \n\n   vowel_first_letter vowels consonants  vowel_count  consonant_count  \\\n0               False   auie         pl            4                2   \n1               False     ee        kly            2                3   \n2               False    aie      crlsl            3                5   \n3               False     ia          k            2                1   \n4               False      e       wlls            1                4   \n\n                                             bigrams  \\\n0           [(p, a), (a, u), (u, l), (l, i), (i, e)]   \n1                   [(k, e), (e, e), (e, l), (l, y)]   \n2  [(c, a), (a, r), (r, l), (l, i), (i, s), (s, l...   \n3                                   [(k, i), (i, a)]   \n4                   [(w, e), (e, l), (l, l), (l, s)]   \n\n                                            trigrams  syllables  \n0       [(p, a, u), (a, u, l), (u, l, i), (l, i, e)]          2  \n1                  [(k, e, e), (e, e, l), (e, l, y)]          2  \n2  [(c, a, r), (a, r, l), (r, l, i), (l, i, s), (...          3  \n3                                        [(k, i, a)]          1  \n4                  [(w, e, l), (e, l, l), (l, l, s)]          1  ",
      "text/html": "<div>\n<style scoped>\n    .dataframe tbody tr th:only-of-type {\n        vertical-align: middle;\n    }\n\n    .dataframe tbody tr th {\n        vertical-align: top;\n    }\n\n    .dataframe thead th {\n        text-align: right;\n    }\n</style>\n<table border=\"1\" class=\"dataframe\">\n  <thead>\n    <tr style=\"text-align: right;\">\n      <th></th>\n      <th>name</th>\n      <th>gender</th>\n      <th>length</th>\n      <th>last_letter</th>\n      <th>first_letter</th>\n      <th>vowel_last_letter</th>\n      <th>vowel_first_letter</th>\n      <th>vowels</th>\n      <th>consonants</th>\n      <th>vowel_count</th>\n      <th>consonant_count</th>\n      <th>bigrams</th>\n      <th>trigrams</th>\n      <th>syllables</th>\n    </tr>\n  </thead>\n  <tbody>\n    <tr>\n      <td>0</td>\n      <td>paulie</td>\n      <td>female</td>\n      <td>6</td>\n      <td>e</td>\n      <td>p</td>\n      <td>True</td>\n      <td>False</td>\n      <td>auie</td>\n      <td>pl</td>\n      <td>4</td>\n      <td>2</td>\n      <td>[(p, a), (a, u), (u, l), (l, i), (i, e)]</td>\n      <td>[(p, a, u), (a, u, l), (u, l, i), (l, i, e)]</td>\n      <td>2</td>\n    </tr>\n    <tr>\n      <td>1</td>\n      <td>keely</td>\n      <td>female</td>\n      <td>5</td>\n      <td>y</td>\n      <td>k</td>\n      <td>False</td>\n      <td>False</td>\n      <td>ee</td>\n      <td>kly</td>\n      <td>2</td>\n      <td>3</td>\n      <td>[(k, e), (e, e), (e, l), (l, y)]</td>\n      <td>[(k, e, e), (e, e, l), (e, l, y)]</td>\n      <td>2</td>\n    </tr>\n    <tr>\n      <td>2</td>\n      <td>carlisle</td>\n      <td>female</td>\n      <td>8</td>\n      <td>e</td>\n      <td>c</td>\n      <td>True</td>\n      <td>False</td>\n      <td>aie</td>\n      <td>crlsl</td>\n      <td>3</td>\n      <td>5</td>\n      <td>[(c, a), (a, r), (r, l), (l, i), (i, s), (s, l...</td>\n      <td>[(c, a, r), (a, r, l), (r, l, i), (l, i, s), (...</td>\n      <td>3</td>\n    </tr>\n    <tr>\n      <td>3</td>\n      <td>kia</td>\n      <td>female</td>\n      <td>3</td>\n      <td>a</td>\n      <td>k</td>\n      <td>True</td>\n      <td>False</td>\n      <td>ia</td>\n      <td>k</td>\n      <td>2</td>\n      <td>1</td>\n      <td>[(k, i), (i, a)]</td>\n      <td>[(k, i, a)]</td>\n      <td>1</td>\n    </tr>\n    <tr>\n      <td>4</td>\n      <td>wells</td>\n      <td>male</td>\n      <td>5</td>\n      <td>s</td>\n      <td>w</td>\n      <td>False</td>\n      <td>False</td>\n      <td>e</td>\n      <td>wlls</td>\n      <td>1</td>\n      <td>4</td>\n      <td>[(w, e), (e, l), (l, l), (l, s)]</td>\n      <td>[(w, e, l), (e, l, l), (l, l, s)]</td>\n      <td>1</td>\n    </tr>\n  </tbody>\n</table>\n</div>"
     },
     "metadata": {},
     "output_type": "execute_result",
     "execution_count": 41
    }
   ],
   "source": [
    "# instatiate syllable tokenize\n",
    "SSP = SyllableTokenizer()\n",
    "\n",
    "# create various feature columns for exploration\n",
    "data['length'] = data['name'].str.len()\n",
    "data['last_letter'] = data['name'].str[-1]\n",
    "data['first_letter'] = data['name'].str[0]\n",
    "data['vowel_last_letter'] = data['last_letter'].isin([*'aeiou'])\n",
    "data['vowel_first_letter'] = data['first_letter'].isin([*'aeiou'])\n",
    "data['vowels'] = data['name'].str.replace(r'[^aeiou]', '')\n",
    "data['consonants'] = data['name'].str.replace(r'[aeiou]', '')\n",
    "data['vowel_count'] = data['vowels'].str.len()\n",
    "data['consonant_count'] = data['consonants'].str.len()\n",
    "data['bigrams'] = data['name'].apply(lambda x: list(ngrams(x, 2)))\n",
    "data['trigrams'] = data['name'].apply(lambda x: list(ngrams(x, 3)))\n",
    "data['syllables'] = data['name'].apply(lambda x: len(SSP.tokenize(x)))\n",
    "\n",
    "# preview data\n",
    "data.head()"
   ],
   "metadata": {
    "collapsed": false,
    "pycharm": {
     "name": "#%%\n",
     "is_executing": false
    }
   }
  },
  {
   "cell_type": "code",
   "execution_count": 42,
   "outputs": [
    {
     "data": {
      "text/plain": "                                                  bigrams  \\\ngender                                                      \nfemale  [(p, a), (a, u), (u, l), (l, i), (i, e), (k, e...   \nmale    [(w, e), (e, l), (l, l), (l, s), (v, i), (i, n...   \n\n                                                 trigrams  \\\ngender                                                      \nfemale  [(p, a, u), (a, u, l), (u, l, i), (l, i, e), (...   \nmale    [(w, e, l), (e, l, l), (l, l, s), (v, i, n), (...   \n\n                                          bigrams_counter  \\\ngender                                                      \nfemale  {('p', 'a'): 47, ('a', 'u'): 93, ('u', 'l'): 6...   \nmale    {('w', 'e'): 43, ('e', 'l'): 182, ('l', 'l'): ...   \n\n                                         trigrams_counter  \ngender                                                     \nfemale  {('p', 'a', 'u'): 11, ('a', 'u', 'l'): 11, ('u...  \nmale    {('w', 'e', 'l'): 14, ('e', 'l', 'l'): 45, ('l...  ",
      "text/html": "<div>\n<style scoped>\n    .dataframe tbody tr th:only-of-type {\n        vertical-align: middle;\n    }\n\n    .dataframe tbody tr th {\n        vertical-align: top;\n    }\n\n    .dataframe thead th {\n        text-align: right;\n    }\n</style>\n<table border=\"1\" class=\"dataframe\">\n  <thead>\n    <tr style=\"text-align: right;\">\n      <th></th>\n      <th>bigrams</th>\n      <th>trigrams</th>\n      <th>bigrams_counter</th>\n      <th>trigrams_counter</th>\n    </tr>\n    <tr>\n      <th>gender</th>\n      <th></th>\n      <th></th>\n      <th></th>\n      <th></th>\n    </tr>\n  </thead>\n  <tbody>\n    <tr>\n      <td>female</td>\n      <td>[(p, a), (a, u), (u, l), (l, i), (i, e), (k, e...</td>\n      <td>[(p, a, u), (a, u, l), (u, l, i), (l, i, e), (...</td>\n      <td>{('p', 'a'): 47, ('a', 'u'): 93, ('u', 'l'): 6...</td>\n      <td>{('p', 'a', 'u'): 11, ('a', 'u', 'l'): 11, ('u...</td>\n    </tr>\n    <tr>\n      <td>male</td>\n      <td>[(w, e), (e, l), (l, l), (l, s), (v, i), (i, n...</td>\n      <td>[(w, e, l), (e, l, l), (l, l, s), (v, i, n), (...</td>\n      <td>{('w', 'e'): 43, ('e', 'l'): 182, ('l', 'l'): ...</td>\n      <td>{('w', 'e', 'l'): 14, ('e', 'l', 'l'): 45, ('l...</td>\n    </tr>\n  </tbody>\n</table>\n</div>"
     },
     "metadata": {},
     "output_type": "execute_result",
     "execution_count": 42
    }
   ],
   "source": [
    "# lets analyze our bigrams and trigrams columns to get the most common ngrams by gender\n",
    "ngrams_gender = data.groupby('gender')[['bigrams', 'trigrams']].sum()\n",
    "ngrams_gender['bigrams_counter'] = ngrams_gender['bigrams'].apply(lambda x: Counter(x))\n",
    "ngrams_gender['trigrams_counter'] = ngrams_gender['trigrams'].apply(lambda x: Counter(x))\n",
    "ngrams_gender"
   ],
   "metadata": {
    "collapsed": false,
    "pycharm": {
     "name": "#%%\n",
     "is_executing": false
    }
   }
  },
  {
   "cell_type": "markdown",
   "source": [
    "Using the counter class and the bigrams and trigrams, we can eliminate the need for the most common bigram/trigram and instead\n",
    "just use the list of bigrams and trigrams as features. The most common bigram was only in ~13% of the female names and ~12%\n",
    "of the male names."
   ],
   "metadata": {
    "collapsed": false,
    "pycharm": {
     "name": "#%% md\n"
    }
   }
  },
  {
   "cell_type": "markdown",
   "source": [
    "### Feature Generation Function\n",
    "This function will be applied to our lists of names to create the features that we identified as potential predictors above."
   ],
   "metadata": {
    "collapsed": false,
    "pycharm": {
     "name": "#%% md\n"
    }
   }
  },
  {
   "cell_type": "code",
   "execution_count": 43,
   "outputs": [],
   "source": [
    "# feature generator\n",
    "def gender_features(name):\n",
    "    # length of name\n",
    "    length = len(name)\n",
    "    \n",
    "    # last letter, first letter, vowel last/first letter\n",
    "    first_letter = name[0]\n",
    "    vowel_first_letter = first_letter in 'aeiou'\n",
    "    last_letter = name[-1]\n",
    "    vowel_last_letter = last_letter in 'aeiou'\n",
    "    \n",
    "    # vowel/consonants + counts\n",
    "    vowels = name.replace(r'[^aeiou]', '')\n",
    "    vowel_count = len(vowels)\n",
    "    consonants = name.replace(r'[aeiou]', '')\n",
    "    consonant_count = len(consonants)\n",
    "    \n",
    "    # bigrams/trigrams\n",
    "    bigrams = list(ngrams(name, 2))\n",
    "    trigrams = list(ngrams(name, 3))\n",
    "    \n",
    "    # syllables\n",
    "    syllables = len(SSP.tokenize(name))\n",
    "    \n",
    "    return {\n",
    "        'length': length,\n",
    "        'first_letter': first_letter,\n",
    "        'vowel_first_letter': vowel_first_letter,\n",
    "        'last_letter': last_letter,\n",
    "        'vowel_last_letter': vowel_last_letter,\n",
    "        'vowels': vowels,\n",
    "        'vowel_count': vowel_count,\n",
    "        'consonants': consonants,\n",
    "        'consonant_count': consonant_count,\n",
    "        'bigrams': bigrams,\n",
    "        'trigrams': trigrams,\n",
    "        'syllables': syllables\n",
    "    }"
   ],
   "metadata": {
    "collapsed": false,
    "pycharm": {
     "name": "#%%\n",
     "is_executing": false
    }
   }
  },
  {
   "cell_type": "markdown",
   "source": [
    "## Data Exploration\n",
    "Lets get a better feel for how our data is composed. In this exploration step, we will confirm whether any of the features\n",
    "we created will become good predictors of gender. Exploration will occur both visually as well as computationally."
   ],
   "metadata": {
    "collapsed": false
   }
  },
  {
   "cell_type": "code",
   "execution_count": 44,
   "outputs": [
    {
     "data": {
      "text/plain": "          length  vowel_last_letter  vowel_first_letter  vowel_count  \\\ngender                                                                 \nfemale  6.147527           0.723567            0.173391     2.674115   \nmale    5.943857           0.234050            0.156763     2.203791   \n\n        consonant_count  syllables  \ngender                              \nfemale         3.473412   2.472791  \nmale           3.740066   2.051039  ",
      "text/html": "<div>\n<style scoped>\n    .dataframe tbody tr th:only-of-type {\n        vertical-align: middle;\n    }\n\n    .dataframe tbody tr th {\n        vertical-align: top;\n    }\n\n    .dataframe thead th {\n        text-align: right;\n    }\n</style>\n<table border=\"1\" class=\"dataframe\">\n  <thead>\n    <tr style=\"text-align: right;\">\n      <th></th>\n      <th>length</th>\n      <th>vowel_last_letter</th>\n      <th>vowel_first_letter</th>\n      <th>vowel_count</th>\n      <th>consonant_count</th>\n      <th>syllables</th>\n    </tr>\n    <tr>\n      <th>gender</th>\n      <th></th>\n      <th></th>\n      <th></th>\n      <th></th>\n      <th></th>\n      <th></th>\n    </tr>\n  </thead>\n  <tbody>\n    <tr>\n      <td>female</td>\n      <td>6.147527</td>\n      <td>0.723567</td>\n      <td>0.173391</td>\n      <td>2.674115</td>\n      <td>3.473412</td>\n      <td>2.472791</td>\n    </tr>\n    <tr>\n      <td>male</td>\n      <td>5.943857</td>\n      <td>0.234050</td>\n      <td>0.156763</td>\n      <td>2.203791</td>\n      <td>3.740066</td>\n      <td>2.051039</td>\n    </tr>\n  </tbody>\n</table>\n</div>"
     },
     "metadata": {},
     "output_type": "execute_result",
     "execution_count": 44
    }
   ],
   "source": [
    "# use our created variables to generate some summary statistics\n",
    "data.groupby('gender').mean()"
   ],
   "metadata": {
    "collapsed": false,
    "pycharm": {
     "name": "#%%\n",
     "is_executing": false
    }
   }
  },
  {
   "cell_type": "code",
   "execution_count": 45,
   "outputs": [],
   "source": [
    "# separate features from label\n",
    "X = data.drop(columns=['name', 'gender'])\n",
    "y = data['gender']"
   ],
   "metadata": {
    "collapsed": false,
    "pycharm": {
     "name": "#%%\n",
     "is_executing": false
    }
   }
  },
  {
   "cell_type": "markdown",
   "source": [
    "Based on the above chart, we see that females have a higher name length on average, higher vowel counts, and the last letter is 72% of the time a vowel.\n",
    "These appear to be good predictors. We need to visual confirm what we see numerically"
   ],
   "metadata": {
    "collapsed": false,
    "pycharm": {
     "name": "#%% md\n"
    }
   }
  },
  {
   "cell_type": "code",
   "execution_count": 59,
   "outputs": [
    {
     "data": {
      "text/plain": "<matplotlib.axes._subplots.AxesSubplot at 0x1a2dd47710>"
     },
     "metadata": {},
     "output_type": "execute_result",
     "execution_count": 59
    },
    {
     "data": {
      "text/plain": "<matplotlib.axes._subplots.AxesSubplot at 0x1a30d9e5d0>"
     },
     "metadata": {},
     "output_type": "execute_result",
     "execution_count": 59
    },
    {
     "data": {
      "text/plain": "<matplotlib.axes._subplots.AxesSubplot at 0x1a32e30f50>"
     },
     "metadata": {},
     "output_type": "execute_result",
     "execution_count": 59
    },
    {
     "data": {
      "text/plain": "<matplotlib.axes._subplots.AxesSubplot at 0x1a32e15490>"
     },
     "metadata": {},
     "output_type": "execute_result",
     "execution_count": 59
    },
    {
     "data": {
      "text/plain": "<Figure size 1440x720 with 8 Axes>",
      "image/png": "[encoded data removed]"
     },
     "metadata": {
      "needs_background": "light"
     },
     "output_type": "display_data"
    }
   ],
   "source": [
    "# categorical/numerical columns\n",
    "categorical_cols = X.loc[:, [col for col in X.columns if 'gram' not in col]].select_dtypes(include='object').columns\n",
    "numerical_cols = X.select_dtypes(include=np.number).columns\n",
    "\n",
    "fig, ax = plt.subplots(2, 4, figsize=(20, 10))\n",
    "\n",
    "for var, subplot in zip(categorical_cols, ax.flatten()):\n",
    "    sns.countplot(x=var, data=data, ax=subplot)"
   ],
   "metadata": {
    "collapsed": false,
    "pycharm": {
     "name": "#%%\n",
     "is_executing": false
    }
   }
  },
  {
   "cell_type": "markdown",
   "source": [
    "## Data Preparation\n",
    "We need to apply our feature generation function to our list of names and then split the lists into training, test, and validation sets."
   ],
   "metadata": {
    "collapsed": false,
    "pycharm": {
     "name": "#%% md\n"
    }
   }
  },
  {
   "cell_type": "code",
   "execution_count": 47,
   "outputs": [],
   "source": [
    "# apply feature generation function\n",
    "all_names = [(gender_features(name), gender) for name, gender in all_names]\n",
    "\n",
    "# create each set of data\n",
    "train = all_names[:500]\n",
    "dev_test = all_names[500:1000]\n",
    "test = all_names[-6900:]\n"
   ],
   "metadata": {
    "collapsed": false,
    "pycharm": {
     "name": "#%%\n",
     "is_executing": false
    }
   }
  }
 ],
 "metadata": {
  "kernelspec": {
   "display_name": "Python 3",
   "language": "python",
   "name": "python3"
  },
  "language_info": {
   "codemirror_mode": {
    "name": "ipython",
    "version": 2
   },
   "file_extension": ".py",
   "mimetype": "text/x-python",
   "name": "python",
   "nbconvert_exporter": "python",
   "pygments_lexer": "ipython2",
   "version": "2.7.6"
  },
  "pycharm": {
   "stem_cell": {
    "cell_type": "raw",
    "source": [],
    "metadata": {
     "collapsed": false
    }
   }
  }
 },
 "nbformat": 4,
 "nbformat_minor": 0
}